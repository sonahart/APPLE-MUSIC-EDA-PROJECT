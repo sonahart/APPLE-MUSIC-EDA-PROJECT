{
 "cells": [
  {
   "cell_type": "markdown",
   "metadata": {},
   "source": [
    "# APPLE MUSIC EDA PROJECT"
   ]
  },
  {
   "cell_type": "code",
   "execution_count": 1,
   "metadata": {},
   "outputs": [],
   "source": [
    "import numpy as np\n",
    "import pandas as pd\n",
    "import matplotlib as plt\n",
    "import seaborn as sns"
   ]
  },
  {
   "cell_type": "code",
   "execution_count": 2,
   "metadata": {},
   "outputs": [],
   "source": [
    "sns.set(rc={\"figure.figsize\":(12, 6)})"
   ]
  },
  {
   "cell_type": "code",
   "execution_count": 3,
   "metadata": {},
   "outputs": [],
   "source": [
    "filepath = 'Apple Music Play Activity.csv'"
   ]
  },
  {
   "cell_type": "code",
   "execution_count": 4,
   "metadata": {},
   "outputs": [],
   "source": [
    "music_df = pd.read_csv(filepath)"
   ]
  },
  {
   "cell_type": "code",
   "execution_count": 5,
   "metadata": {},
   "outputs": [
    {
     "data": {
      "text/html": [
       "<div>\n",
       "<style scoped>\n",
       "    .dataframe tbody tr th:only-of-type {\n",
       "        vertical-align: middle;\n",
       "    }\n",
       "\n",
       "    .dataframe tbody tr th {\n",
       "        vertical-align: top;\n",
       "    }\n",
       "\n",
       "    .dataframe thead th {\n",
       "        text-align: right;\n",
       "    }\n",
       "</style>\n",
       "<table border=\"1\" class=\"dataframe\">\n",
       "  <thead>\n",
       "    <tr style=\"text-align: right;\">\n",
       "      <th></th>\n",
       "      <th>Apple ID Number</th>\n",
       "      <th>Apple Music Subscription</th>\n",
       "      <th>Artist Name</th>\n",
       "      <th>Build Version</th>\n",
       "      <th>Client IP Address</th>\n",
       "      <th>Device Identifier</th>\n",
       "      <th>End Position In Milliseconds</th>\n",
       "      <th>End Reason Type</th>\n",
       "      <th>Event End Timestamp</th>\n",
       "      <th>Event Reason Hint Type</th>\n",
       "      <th>...</th>\n",
       "      <th>Session Is Shared</th>\n",
       "      <th>Shared Activity Devices-Current</th>\n",
       "      <th>Shared Activity Devices-Max</th>\n",
       "      <th>Song Name</th>\n",
       "      <th>Source Type</th>\n",
       "      <th>Start Position In Milliseconds</th>\n",
       "      <th>Store Front Name</th>\n",
       "      <th>User’s Audio Quality</th>\n",
       "      <th>User’s Playback Format</th>\n",
       "      <th>UTC Offset In Seconds</th>\n",
       "    </tr>\n",
       "  </thead>\n",
       "  <tbody>\n",
       "    <tr>\n",
       "      <th>0</th>\n",
       "      <td>8080964677</td>\n",
       "      <td>True</td>\n",
       "      <td>CKay</td>\n",
       "      <td>NaN</td>\n",
       "      <td>41.184.227.168</td>\n",
       "      <td>unknown-guid</td>\n",
       "      <td>0.0</td>\n",
       "      <td>TRACK_SKIPPED_FORWARDS</td>\n",
       "      <td>2022-02-20T20:15:43.618Z</td>\n",
       "      <td>NOT_SPECIFIED</td>\n",
       "      <td>...</td>\n",
       "      <td>False</td>\n",
       "      <td>NaN</td>\n",
       "      <td>NaN</td>\n",
       "      <td>Show My Side (feat. Amaarae)</td>\n",
       "      <td>ORIGINATING_DEVICE</td>\n",
       "      <td>0</td>\n",
       "      <td>Nigeria</td>\n",
       "      <td>NaN</td>\n",
       "      <td>NaN</td>\n",
       "      <td>3600.0</td>\n",
       "    </tr>\n",
       "    <tr>\n",
       "      <th>1</th>\n",
       "      <td>8080964677</td>\n",
       "      <td>True</td>\n",
       "      <td>DanDizzy</td>\n",
       "      <td>Music/3.1 iOS/12.3.1 model/iPhone9,3 hwp/t8010...</td>\n",
       "      <td>105.112.50.152</td>\n",
       "      <td>67b33bee274d9d9c174173f987728c06f1fde285</td>\n",
       "      <td>184830.0</td>\n",
       "      <td>NATURAL_END_OF_TRACK</td>\n",
       "      <td>2019-07-22T17:24:17.954Z</td>\n",
       "      <td>NOT_SPECIFIED</td>\n",
       "      <td>...</td>\n",
       "      <td>NaN</td>\n",
       "      <td>NaN</td>\n",
       "      <td>NaN</td>\n",
       "      <td>Uncle Shuga Daddy</td>\n",
       "      <td>ORIGINATING_DEVICE</td>\n",
       "      <td>0</td>\n",
       "      <td>Nigeria</td>\n",
       "      <td>NaN</td>\n",
       "      <td>NaN</td>\n",
       "      <td>3600.0</td>\n",
       "    </tr>\n",
       "    <tr>\n",
       "      <th>2</th>\n",
       "      <td>8080964677</td>\n",
       "      <td>True</td>\n",
       "      <td>Khalid</td>\n",
       "      <td>Music/3.1 iOS/12.1.2 model/iPhone7,2 hwp/t7000...</td>\n",
       "      <td>41.203.93.115</td>\n",
       "      <td>e237c5cedc48b502fd85c611a7dc903b687379b8</td>\n",
       "      <td>209606.0</td>\n",
       "      <td>NATURAL_END_OF_TRACK</td>\n",
       "      <td>2019-01-01T12:53:23.511Z</td>\n",
       "      <td>NOT_SPECIFIED</td>\n",
       "      <td>...</td>\n",
       "      <td>NaN</td>\n",
       "      <td>NaN</td>\n",
       "      <td>NaN</td>\n",
       "      <td>Saturday Nights</td>\n",
       "      <td>ORIGINATING_DEVICE</td>\n",
       "      <td>0</td>\n",
       "      <td>Nigeria</td>\n",
       "      <td>NaN</td>\n",
       "      <td>NaN</td>\n",
       "      <td>3600.0</td>\n",
       "    </tr>\n",
       "    <tr>\n",
       "      <th>3</th>\n",
       "      <td>8080964677</td>\n",
       "      <td>True</td>\n",
       "      <td>Migos</td>\n",
       "      <td>Music/3.1 iOS/14.2 model/iPhone11,8 hwp/t8020 ...</td>\n",
       "      <td>105.112.186.129</td>\n",
       "      <td>00008020-000A54C62E8A002E</td>\n",
       "      <td>28470.0</td>\n",
       "      <td>PLAYBACK_MANUALLY_PAUSED</td>\n",
       "      <td>2020-12-10T20:56:45.550Z</td>\n",
       "      <td>NOT_SPECIFIED</td>\n",
       "      <td>...</td>\n",
       "      <td>NaN</td>\n",
       "      <td>NaN</td>\n",
       "      <td>NaN</td>\n",
       "      <td>Kelly Price (feat. Travis Scott)</td>\n",
       "      <td>ORIGINATING_DEVICE</td>\n",
       "      <td>26072</td>\n",
       "      <td>Nigeria</td>\n",
       "      <td>NaN</td>\n",
       "      <td>NaN</td>\n",
       "      <td>3600.0</td>\n",
       "    </tr>\n",
       "    <tr>\n",
       "      <th>4</th>\n",
       "      <td>8080964677</td>\n",
       "      <td>True</td>\n",
       "      <td>Migos</td>\n",
       "      <td>Music/3.1 iOS/14.2 model/iPhone11,8 hwp/t8020 ...</td>\n",
       "      <td>105.112.186.129</td>\n",
       "      <td>00008020-000A54C62E8A002E</td>\n",
       "      <td>9947.0</td>\n",
       "      <td>SCRUB_END</td>\n",
       "      <td>2020-12-10T20:56:49.556Z</td>\n",
       "      <td>NOT_SPECIFIED</td>\n",
       "      <td>...</td>\n",
       "      <td>NaN</td>\n",
       "      <td>NaN</td>\n",
       "      <td>NaN</td>\n",
       "      <td>Kelly Price (feat. Travis Scott)</td>\n",
       "      <td>ORIGINATING_DEVICE</td>\n",
       "      <td>15915</td>\n",
       "      <td>Nigeria</td>\n",
       "      <td>NaN</td>\n",
       "      <td>NaN</td>\n",
       "      <td>3600.0</td>\n",
       "    </tr>\n",
       "  </tbody>\n",
       "</table>\n",
       "<p>5 rows × 38 columns</p>\n",
       "</div>"
      ],
      "text/plain": [
       "   Apple ID Number Apple Music Subscription Artist Name  \\\n",
       "0       8080964677                     True        CKay   \n",
       "1       8080964677                     True    DanDizzy   \n",
       "2       8080964677                     True      Khalid   \n",
       "3       8080964677                     True       Migos   \n",
       "4       8080964677                     True       Migos   \n",
       "\n",
       "                                       Build Version Client IP Address  \\\n",
       "0                                                NaN    41.184.227.168   \n",
       "1  Music/3.1 iOS/12.3.1 model/iPhone9,3 hwp/t8010...    105.112.50.152   \n",
       "2  Music/3.1 iOS/12.1.2 model/iPhone7,2 hwp/t7000...     41.203.93.115   \n",
       "3  Music/3.1 iOS/14.2 model/iPhone11,8 hwp/t8020 ...   105.112.186.129   \n",
       "4  Music/3.1 iOS/14.2 model/iPhone11,8 hwp/t8020 ...   105.112.186.129   \n",
       "\n",
       "                          Device Identifier  End Position In Milliseconds  \\\n",
       "0                              unknown-guid                           0.0   \n",
       "1  67b33bee274d9d9c174173f987728c06f1fde285                      184830.0   \n",
       "2  e237c5cedc48b502fd85c611a7dc903b687379b8                      209606.0   \n",
       "3                 00008020-000A54C62E8A002E                       28470.0   \n",
       "4                 00008020-000A54C62E8A002E                        9947.0   \n",
       "\n",
       "            End Reason Type       Event End Timestamp Event Reason Hint Type  \\\n",
       "0    TRACK_SKIPPED_FORWARDS  2022-02-20T20:15:43.618Z          NOT_SPECIFIED   \n",
       "1      NATURAL_END_OF_TRACK  2019-07-22T17:24:17.954Z          NOT_SPECIFIED   \n",
       "2      NATURAL_END_OF_TRACK  2019-01-01T12:53:23.511Z          NOT_SPECIFIED   \n",
       "3  PLAYBACK_MANUALLY_PAUSED  2020-12-10T20:56:45.550Z          NOT_SPECIFIED   \n",
       "4                 SCRUB_END  2020-12-10T20:56:49.556Z          NOT_SPECIFIED   \n",
       "\n",
       "   ... Session Is Shared Shared Activity Devices-Current  \\\n",
       "0  ...             False                             NaN   \n",
       "1  ...               NaN                             NaN   \n",
       "2  ...               NaN                             NaN   \n",
       "3  ...               NaN                             NaN   \n",
       "4  ...               NaN                             NaN   \n",
       "\n",
       "  Shared Activity Devices-Max                         Song Name  \\\n",
       "0                         NaN      Show My Side (feat. Amaarae)   \n",
       "1                         NaN                 Uncle Shuga Daddy   \n",
       "2                         NaN                   Saturday Nights   \n",
       "3                         NaN  Kelly Price (feat. Travis Scott)   \n",
       "4                         NaN  Kelly Price (feat. Travis Scott)   \n",
       "\n",
       "          Source Type  Start Position In Milliseconds Store Front Name  \\\n",
       "0  ORIGINATING_DEVICE                               0          Nigeria   \n",
       "1  ORIGINATING_DEVICE                               0          Nigeria   \n",
       "2  ORIGINATING_DEVICE                               0          Nigeria   \n",
       "3  ORIGINATING_DEVICE                           26072          Nigeria   \n",
       "4  ORIGINATING_DEVICE                           15915          Nigeria   \n",
       "\n",
       "   User’s Audio Quality User’s Playback Format  UTC Offset In Seconds  \n",
       "0                   NaN                    NaN                 3600.0  \n",
       "1                   NaN                    NaN                 3600.0  \n",
       "2                   NaN                    NaN                 3600.0  \n",
       "3                   NaN                    NaN                 3600.0  \n",
       "4                   NaN                    NaN                 3600.0  \n",
       "\n",
       "[5 rows x 38 columns]"
      ]
     },
     "execution_count": 5,
     "metadata": {},
     "output_type": "execute_result"
    }
   ],
   "source": [
    "music_df.head()"
   ]
  },
  {
   "cell_type": "code",
   "execution_count": 6,
   "metadata": {},
   "outputs": [
    {
     "name": "stdout",
     "output_type": "stream",
     "text": [
      "Rows x Colums: (123261, 38)\n"
     ]
    }
   ],
   "source": [
    "#Check data shape\n",
    "print(f'Rows x Colums: {music_df.shape}')"
   ]
  },
  {
   "cell_type": "code",
   "execution_count": 7,
   "metadata": {},
   "outputs": [
    {
     "data": {
      "text/plain": [
       "['Apple ID Number',\n",
       " 'Apple Music Subscription',\n",
       " 'Artist Name',\n",
       " 'Build Version',\n",
       " 'Client IP Address',\n",
       " 'Device Identifier',\n",
       " 'End Position In Milliseconds',\n",
       " 'End Reason Type',\n",
       " 'Event End Timestamp',\n",
       " 'Event Reason Hint Type',\n",
       " 'Event Received Timestamp',\n",
       " 'Event Start Timestamp',\n",
       " 'Event Type',\n",
       " 'Feature Name',\n",
       " 'Item Type',\n",
       " 'Media Duration In Milliseconds',\n",
       " 'Media Type',\n",
       " 'Metrics Bucket Id',\n",
       " 'Metrics Client Id',\n",
       " 'Milliseconds Since Play',\n",
       " 'Offline',\n",
       " 'Play Duration Milliseconds',\n",
       " 'Provided Audio Bit Depth',\n",
       " 'Provided Audio Channel',\n",
       " 'Provided Audio Sample Rate',\n",
       " 'Provided Bit Rate',\n",
       " 'Provided Codec',\n",
       " 'Provided Playback Format',\n",
       " 'Session Is Shared',\n",
       " 'Shared Activity Devices-Current',\n",
       " 'Shared Activity Devices-Max',\n",
       " 'Song Name',\n",
       " 'Source Type',\n",
       " 'Start Position In Milliseconds',\n",
       " 'Store Front Name',\n",
       " 'User’s Audio Quality',\n",
       " 'User’s Playback Format',\n",
       " 'UTC Offset In Seconds']"
      ]
     },
     "execution_count": 7,
     "metadata": {},
     "output_type": "execute_result"
    }
   ],
   "source": [
    "#Check column names\n",
    "music_df.columns.to_list()"
   ]
  },
  {
   "cell_type": "markdown",
   "metadata": {},
   "source": [
    "Displaying basic stats"
   ]
  },
  {
   "cell_type": "code",
   "execution_count": 8,
   "metadata": {},
   "outputs": [
    {
     "name": "stdout",
     "output_type": "stream",
     "text": [
      "<class 'pandas.core.frame.DataFrame'>\n",
      "RangeIndex: 123261 entries, 0 to 123260\n",
      "Data columns (total 38 columns):\n",
      " #   Column                           Non-Null Count   Dtype  \n",
      "---  ------                           --------------   -----  \n",
      " 0   Apple ID Number                  123261 non-null  int64  \n",
      " 1   Apple Music Subscription         123223 non-null  object \n",
      " 2   Artist Name                      119750 non-null  object \n",
      " 3   Build Version                    115930 non-null  object \n",
      " 4   Client IP Address                120024 non-null  object \n",
      " 5   Device Identifier                123260 non-null  object \n",
      " 6   End Position In Milliseconds     122036 non-null  float64\n",
      " 7   End Reason Type                  120572 non-null  object \n",
      " 8   Event End Timestamp              122036 non-null  object \n",
      " 9   Event Reason Hint Type           120573 non-null  object \n",
      " 10  Event Received Timestamp         123261 non-null  object \n",
      " 11  Event Start Timestamp            117579 non-null  object \n",
      " 12  Event Type                       120573 non-null  object \n",
      " 13  Feature Name                     112920 non-null  object \n",
      " 14  Item Type                        123261 non-null  object \n",
      " 15  Media Duration In Milliseconds   123058 non-null  float64\n",
      " 16  Media Type                       120806 non-null  object \n",
      " 17  Metrics Bucket Id                110412 non-null  float64\n",
      " 18  Metrics Client Id                122353 non-null  object \n",
      " 19  Milliseconds Since Play          123261 non-null  int64  \n",
      " 20  Offline                          121246 non-null  object \n",
      " 21  Play Duration Milliseconds       122036 non-null  float64\n",
      " 22  Provided Audio Bit Depth         1358 non-null    float64\n",
      " 23  Provided Audio Channel           1358 non-null    object \n",
      " 24  Provided Audio Sample Rate       1358 non-null    float64\n",
      " 25  Provided Bit Rate                1358 non-null    float64\n",
      " 26  Provided Codec                   1358 non-null    object \n",
      " 27  Provided Playback Format         1358 non-null    object \n",
      " 28  Session Is Shared                21549 non-null   object \n",
      " 29  Shared Activity Devices-Current  0 non-null       float64\n",
      " 30  Shared Activity Devices-Max      0 non-null       float64\n",
      " 31  Song Name                        119750 non-null  object \n",
      " 32  Source Type                      120787 non-null  object \n",
      " 33  Start Position In Milliseconds   123261 non-null  int64  \n",
      " 34  Store Front Name                 123261 non-null  object \n",
      " 35  User’s Audio Quality             1358 non-null    object \n",
      " 36  User’s Playback Format           1358 non-null    object \n",
      " 37  UTC Offset In Seconds            123082 non-null  float64\n",
      "dtypes: float64(10), int64(3), object(25)\n",
      "memory usage: 35.7+ MB\n"
     ]
    }
   ],
   "source": [
    "music_df.info()"
   ]
  },
  {
   "cell_type": "code",
   "execution_count": 9,
   "metadata": {},
   "outputs": [
    {
     "data": {
      "text/html": [
       "<div>\n",
       "<style scoped>\n",
       "    .dataframe tbody tr th:only-of-type {\n",
       "        vertical-align: middle;\n",
       "    }\n",
       "\n",
       "    .dataframe tbody tr th {\n",
       "        vertical-align: top;\n",
       "    }\n",
       "\n",
       "    .dataframe thead th {\n",
       "        text-align: right;\n",
       "    }\n",
       "</style>\n",
       "<table border=\"1\" class=\"dataframe\">\n",
       "  <thead>\n",
       "    <tr style=\"text-align: right;\">\n",
       "      <th></th>\n",
       "      <th>Apple ID Number</th>\n",
       "      <th>End Position In Milliseconds</th>\n",
       "      <th>Media Duration In Milliseconds</th>\n",
       "      <th>Metrics Bucket Id</th>\n",
       "      <th>Milliseconds Since Play</th>\n",
       "      <th>Play Duration Milliseconds</th>\n",
       "      <th>Provided Audio Bit Depth</th>\n",
       "      <th>Provided Audio Sample Rate</th>\n",
       "      <th>Provided Bit Rate</th>\n",
       "      <th>Shared Activity Devices-Current</th>\n",
       "      <th>Shared Activity Devices-Max</th>\n",
       "      <th>Start Position In Milliseconds</th>\n",
       "      <th>UTC Offset In Seconds</th>\n",
       "    </tr>\n",
       "  </thead>\n",
       "  <tbody>\n",
       "    <tr>\n",
       "      <th>count</th>\n",
       "      <td>1.232610e+05</td>\n",
       "      <td>1.220360e+05</td>\n",
       "      <td>1.230580e+05</td>\n",
       "      <td>110412.000000</td>\n",
       "      <td>1.232610e+05</td>\n",
       "      <td>1.220360e+05</td>\n",
       "      <td>1358.0</td>\n",
       "      <td>1358.0</td>\n",
       "      <td>1358.000000</td>\n",
       "      <td>0.0</td>\n",
       "      <td>0.0</td>\n",
       "      <td>1.232610e+05</td>\n",
       "      <td>123082.00000</td>\n",
       "    </tr>\n",
       "    <tr>\n",
       "      <th>mean</th>\n",
       "      <td>8.080965e+09</td>\n",
       "      <td>1.972363e+05</td>\n",
       "      <td>2.189928e+05</td>\n",
       "      <td>5959.233072</td>\n",
       "      <td>2.813268e+06</td>\n",
       "      <td>1.735822e+05</td>\n",
       "      <td>0.0</td>\n",
       "      <td>0.0</td>\n",
       "      <td>286020.618557</td>\n",
       "      <td>NaN</td>\n",
       "      <td>NaN</td>\n",
       "      <td>2.357540e+04</td>\n",
       "      <td>3504.47344</td>\n",
       "    </tr>\n",
       "    <tr>\n",
       "      <th>std</th>\n",
       "      <td>0.000000e+00</td>\n",
       "      <td>3.391455e+06</td>\n",
       "      <td>2.630183e+05</td>\n",
       "      <td>2557.355500</td>\n",
       "      <td>1.290704e+08</td>\n",
       "      <td>3.391659e+06</td>\n",
       "      <td>0.0</td>\n",
       "      <td>0.0</td>\n",
       "      <td>253465.425168</td>\n",
       "      <td>NaN</td>\n",
       "      <td>NaN</td>\n",
       "      <td>7.748172e+04</td>\n",
       "      <td>584.21006</td>\n",
       "    </tr>\n",
       "    <tr>\n",
       "      <th>min</th>\n",
       "      <td>8.080965e+09</td>\n",
       "      <td>-1.348178e+07</td>\n",
       "      <td>0.000000e+00</td>\n",
       "      <td>259.000000</td>\n",
       "      <td>0.000000e+00</td>\n",
       "      <td>-1.354253e+07</td>\n",
       "      <td>0.0</td>\n",
       "      <td>0.0</td>\n",
       "      <td>64000.000000</td>\n",
       "      <td>NaN</td>\n",
       "      <td>NaN</td>\n",
       "      <td>-7.875460e+05</td>\n",
       "      <td>0.00000</td>\n",
       "    </tr>\n",
       "    <tr>\n",
       "      <th>25%</th>\n",
       "      <td>8.080965e+09</td>\n",
       "      <td>3.693750e+03</td>\n",
       "      <td>1.819510e+05</td>\n",
       "      <td>2852.000000</td>\n",
       "      <td>8.100000e+01</td>\n",
       "      <td>1.407000e+03</td>\n",
       "      <td>0.0</td>\n",
       "      <td>0.0</td>\n",
       "      <td>64000.000000</td>\n",
       "      <td>NaN</td>\n",
       "      <td>NaN</td>\n",
       "      <td>0.000000e+00</td>\n",
       "      <td>3600.00000</td>\n",
       "    </tr>\n",
       "    <tr>\n",
       "      <th>50%</th>\n",
       "      <td>8.080965e+09</td>\n",
       "      <td>1.008215e+05</td>\n",
       "      <td>2.066800e+05</td>\n",
       "      <td>6271.000000</td>\n",
       "      <td>2.080000e+02</td>\n",
       "      <td>3.928950e+04</td>\n",
       "      <td>0.0</td>\n",
       "      <td>0.0</td>\n",
       "      <td>256000.000000</td>\n",
       "      <td>NaN</td>\n",
       "      <td>NaN</td>\n",
       "      <td>0.000000e+00</td>\n",
       "      <td>3600.00000</td>\n",
       "    </tr>\n",
       "    <tr>\n",
       "      <th>75%</th>\n",
       "      <td>8.080965e+09</td>\n",
       "      <td>1.891762e+05</td>\n",
       "      <td>2.378970e+05</td>\n",
       "      <td>7872.000000</td>\n",
       "      <td>1.334000e+03</td>\n",
       "      <td>1.742435e+05</td>\n",
       "      <td>0.0</td>\n",
       "      <td>0.0</td>\n",
       "      <td>256000.000000</td>\n",
       "      <td>NaN</td>\n",
       "      <td>NaN</td>\n",
       "      <td>0.000000e+00</td>\n",
       "      <td>3600.00000</td>\n",
       "    </tr>\n",
       "    <tr>\n",
       "      <th>max</th>\n",
       "      <td>8.080965e+09</td>\n",
       "      <td>4.205080e+08</td>\n",
       "      <td>2.550600e+07</td>\n",
       "      <td>9955.000000</td>\n",
       "      <td>1.018485e+10</td>\n",
       "      <td>4.205080e+08</td>\n",
       "      <td>0.0</td>\n",
       "      <td>0.0</td>\n",
       "      <td>768000.000000</td>\n",
       "      <td>NaN</td>\n",
       "      <td>NaN</td>\n",
       "      <td>3.988729e+06</td>\n",
       "      <td>7200.00000</td>\n",
       "    </tr>\n",
       "  </tbody>\n",
       "</table>\n",
       "</div>"
      ],
      "text/plain": [
       "       Apple ID Number  End Position In Milliseconds  \\\n",
       "count     1.232610e+05                  1.220360e+05   \n",
       "mean      8.080965e+09                  1.972363e+05   \n",
       "std       0.000000e+00                  3.391455e+06   \n",
       "min       8.080965e+09                 -1.348178e+07   \n",
       "25%       8.080965e+09                  3.693750e+03   \n",
       "50%       8.080965e+09                  1.008215e+05   \n",
       "75%       8.080965e+09                  1.891762e+05   \n",
       "max       8.080965e+09                  4.205080e+08   \n",
       "\n",
       "       Media Duration In Milliseconds  Metrics Bucket Id  \\\n",
       "count                    1.230580e+05      110412.000000   \n",
       "mean                     2.189928e+05        5959.233072   \n",
       "std                      2.630183e+05        2557.355500   \n",
       "min                      0.000000e+00         259.000000   \n",
       "25%                      1.819510e+05        2852.000000   \n",
       "50%                      2.066800e+05        6271.000000   \n",
       "75%                      2.378970e+05        7872.000000   \n",
       "max                      2.550600e+07        9955.000000   \n",
       "\n",
       "       Milliseconds Since Play  Play Duration Milliseconds  \\\n",
       "count             1.232610e+05                1.220360e+05   \n",
       "mean              2.813268e+06                1.735822e+05   \n",
       "std               1.290704e+08                3.391659e+06   \n",
       "min               0.000000e+00               -1.354253e+07   \n",
       "25%               8.100000e+01                1.407000e+03   \n",
       "50%               2.080000e+02                3.928950e+04   \n",
       "75%               1.334000e+03                1.742435e+05   \n",
       "max               1.018485e+10                4.205080e+08   \n",
       "\n",
       "       Provided Audio Bit Depth  Provided Audio Sample Rate  \\\n",
       "count                    1358.0                      1358.0   \n",
       "mean                        0.0                         0.0   \n",
       "std                         0.0                         0.0   \n",
       "min                         0.0                         0.0   \n",
       "25%                         0.0                         0.0   \n",
       "50%                         0.0                         0.0   \n",
       "75%                         0.0                         0.0   \n",
       "max                         0.0                         0.0   \n",
       "\n",
       "       Provided Bit Rate  Shared Activity Devices-Current  \\\n",
       "count        1358.000000                              0.0   \n",
       "mean       286020.618557                              NaN   \n",
       "std        253465.425168                              NaN   \n",
       "min         64000.000000                              NaN   \n",
       "25%         64000.000000                              NaN   \n",
       "50%        256000.000000                              NaN   \n",
       "75%        256000.000000                              NaN   \n",
       "max        768000.000000                              NaN   \n",
       "\n",
       "       Shared Activity Devices-Max  Start Position In Milliseconds  \\\n",
       "count                          0.0                    1.232610e+05   \n",
       "mean                           NaN                    2.357540e+04   \n",
       "std                            NaN                    7.748172e+04   \n",
       "min                            NaN                   -7.875460e+05   \n",
       "25%                            NaN                    0.000000e+00   \n",
       "50%                            NaN                    0.000000e+00   \n",
       "75%                            NaN                    0.000000e+00   \n",
       "max                            NaN                    3.988729e+06   \n",
       "\n",
       "       UTC Offset In Seconds  \n",
       "count           123082.00000  \n",
       "mean              3504.47344  \n",
       "std                584.21006  \n",
       "min                  0.00000  \n",
       "25%               3600.00000  \n",
       "50%               3600.00000  \n",
       "75%               3600.00000  \n",
       "max               7200.00000  "
      ]
     },
     "execution_count": 9,
     "metadata": {},
     "output_type": "execute_result"
    }
   ],
   "source": [
    "music_df.describe()"
   ]
  },
  {
   "cell_type": "code",
   "execution_count": 10,
   "metadata": {},
   "outputs": [
    {
     "data": {
      "text/plain": [
       "Apple ID Number                         0\n",
       "Apple Music Subscription               38\n",
       "Artist Name                          3511\n",
       "Build Version                        7331\n",
       "Client IP Address                    3237\n",
       "Device Identifier                       1\n",
       "End Position In Milliseconds         1225\n",
       "End Reason Type                      2689\n",
       "Event End Timestamp                  1225\n",
       "Event Reason Hint Type               2688\n",
       "Event Received Timestamp                0\n",
       "Event Start Timestamp                5682\n",
       "Event Type                           2688\n",
       "Feature Name                        10341\n",
       "Item Type                               0\n",
       "Media Duration In Milliseconds        203\n",
       "Media Type                           2455\n",
       "Metrics Bucket Id                   12849\n",
       "Metrics Client Id                     908\n",
       "Milliseconds Since Play                 0\n",
       "Offline                              2015\n",
       "Play Duration Milliseconds           1225\n",
       "Provided Audio Bit Depth           121903\n",
       "Provided Audio Channel             121903\n",
       "Provided Audio Sample Rate         121903\n",
       "Provided Bit Rate                  121903\n",
       "Provided Codec                     121903\n",
       "Provided Playback Format           121903\n",
       "Session Is Shared                  101712\n",
       "Shared Activity Devices-Current    123261\n",
       "Shared Activity Devices-Max        123261\n",
       "Song Name                            3511\n",
       "Source Type                          2474\n",
       "Start Position In Milliseconds          0\n",
       "Store Front Name                        0\n",
       "User’s Audio Quality               121903\n",
       "User’s Playback Format             121903\n",
       "UTC Offset In Seconds                 179\n",
       "dtype: int64"
      ]
     },
     "execution_count": 10,
     "metadata": {},
     "output_type": "execute_result"
    }
   ],
   "source": [
    "#Check for number of missing values\n",
    "music_df.isnull().sum()"
   ]
  },
  {
   "cell_type": "code",
   "execution_count": 11,
   "metadata": {},
   "outputs": [
    {
     "data": {
      "text/plain": [
       "<AxesSubplot:>"
      ]
     },
     "execution_count": 11,
     "metadata": {},
     "output_type": "execute_result"
    },
    {
     "data": {
      "image/png": "[encoded data removed]",
      "text/plain": [
       "<Figure size 864x432 with 2 Axes>"
      ]
     },
     "metadata": {},
     "output_type": "display_data"
    }
   ],
   "source": [
    "sns.heatmap(music_df.isnull())"
   ]
  },
  {
   "cell_type": "markdown",
   "metadata": {},
   "source": [
    "The DataFrame has many columns that are almost filled with NULL VALUES. These columns need to be removed. The target is to get the heatmap above to be as dark as possible."
   ]
  },
  {
   "cell_type": "code",
   "execution_count": 12,
   "metadata": {},
   "outputs": [
    {
     "name": "stdout",
     "output_type": "stream",
     "text": [
      "Shared Activity Devices-Current\n",
      "Shared Activity Devices-Max\n"
     ]
    }
   ],
   "source": [
    "for col in music_df.columns:\n",
    "    if music_df[col].isnull().all() == True:\n",
    "        print(col)"
   ]
  },
  {
   "cell_type": "code",
   "execution_count": 13,
   "metadata": {},
   "outputs": [
    {
     "data": {
      "text/plain": [
       "(array([ True]), array([123261], dtype=int64))"
      ]
     },
     "execution_count": 13,
     "metadata": {},
     "output_type": "execute_result"
    }
   ],
   "source": [
    "np.unique(music_df['Shared Activity Devices-Current'].isnull(),return_counts=True)\n"
   ]
  },
  {
   "cell_type": "code",
   "execution_count": 29,
   "metadata": {},
   "outputs": [
    {
     "data": {
      "text/plain": [
       "121903"
      ]
     },
     "execution_count": 29,
     "metadata": {},
     "output_type": "execute_result"
    }
   ],
   "source": [
    "music_df['Provided Bit Rate'].isnull().value_counts()[True]\n"
   ]
  },
  {
   "cell_type": "code",
   "execution_count": 40,
   "metadata": {},
   "outputs": [],
   "source": [
    "nans = []\n",
    "\n",
    "for col in music_df.columns:\n",
    "    if music_df[col].isnull().all() == True:\n",
    "        nans.append(col)\n",
    "    elif music_df[col].isnull().value_counts()[False] < 10000:\n",
    "        nans.append(col)\n",
    "\n",
    "music_df.drop(nans,axis=1,inplace=True)\n"
   ]
  },
  {
   "cell_type": "code",
   "execution_count": 42,
   "metadata": {},
   "outputs": [
    {
     "name": "stdout",
     "output_type": "stream",
     "text": [
      "Rows x Colums: (123261, 28)\n"
     ]
    }
   ],
   "source": [
    "print(f'Rows x Colums: {music_df.shape}')"
   ]
  },
  {
   "cell_type": "markdown",
   "metadata": {},
   "source": [
    "The number of columns has reduced from 38 to 28"
   ]
  },
  {
   "cell_type": "code",
   "execution_count": null,
   "metadata": {},
   "outputs": [],
   "source": []
  }
 ],
 "metadata": {
  "kernelspec": {
   "display_name": "Python 3.8.8 ('base')",
   "language": "python",
   "name": "python3"
  },
  "language_info": {
   "codemirror_mode": {
    "name": "ipython",
    "version": 3
   },
   "file_extension": ".py",
   "mimetype": "text/x-python",
   "name": "python",
   "nbconvert_exporter": "python",
   "pygments_lexer": "ipython3",
   "version": "3.8.8"
  },
  "orig_nbformat": 4,
  "vscode": {
   "interpreter": {
    "hash": "f26e08a5b0bb6f4c4a146e7eec85141c77d6e2cfd4e070e577645da8d5f239d9"
   }
  }
 },
 "nbformat": 4,
 "nbformat_minor": 2
}
