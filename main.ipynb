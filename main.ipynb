{
 "cells": [
  {
   "cell_type": "markdown",
   "metadata": {},
   "source": [
    "# APPLE MUSIC EDA PROJECT"
   ]
  },
  {
   "cell_type": "code",
   "execution_count": 60,
   "metadata": {},
   "outputs": [],
   "source": [
    "import numpy as np\n",
    "import pandas as pd\n",
    "import matplotlib as plt\n",
    "import seaborn as sns\n",
    "import plotly_express as px"
   ]
  },
  {
   "cell_type": "code",
   "execution_count": 61,
   "metadata": {},
   "outputs": [],
   "source": [
    "sns.set(rc={\"figure.figsize\":(12, 6)})"
   ]
  },
  {
   "cell_type": "code",
   "execution_count": 62,
   "metadata": {},
   "outputs": [],
   "source": [
    "filepath = 'Apple Music Play Activity.csv'"
   ]
  },
  {
   "cell_type": "code",
   "execution_count": 63,
   "metadata": {},
   "outputs": [],
   "source": [
    "music_df = pd.read_csv(filepath)"
   ]
  },
  {
   "cell_type": "code",
   "execution_count": 64,
   "metadata": {},
   "outputs": [
    {
     "data": {
      "text/html": [
       "<div>\n",
       "<style scoped>\n",
       "    .dataframe tbody tr th:only-of-type {\n",
       "        vertical-align: middle;\n",
       "    }\n",
       "\n",
       "    .dataframe tbody tr th {\n",
       "        vertical-align: top;\n",
       "    }\n",
       "\n",
       "    .dataframe thead th {\n",
       "        text-align: right;\n",
       "    }\n",
       "</style>\n",
       "<table border=\"1\" class=\"dataframe\">\n",
       "  <thead>\n",
       "    <tr style=\"text-align: right;\">\n",
       "      <th></th>\n",
       "      <th>Apple ID Number</th>\n",
       "      <th>Apple Music Subscription</th>\n",
       "      <th>Artist Name</th>\n",
       "      <th>Build Version</th>\n",
       "      <th>Client IP Address</th>\n",
       "      <th>Device Identifier</th>\n",
       "      <th>End Position In Milliseconds</th>\n",
       "      <th>End Reason Type</th>\n",
       "      <th>Event End Timestamp</th>\n",
       "      <th>Event Reason Hint Type</th>\n",
       "      <th>...</th>\n",
       "      <th>Session Is Shared</th>\n",
       "      <th>Shared Activity Devices-Current</th>\n",
       "      <th>Shared Activity Devices-Max</th>\n",
       "      <th>Song Name</th>\n",
       "      <th>Source Type</th>\n",
       "      <th>Start Position In Milliseconds</th>\n",
       "      <th>Store Front Name</th>\n",
       "      <th>User’s Audio Quality</th>\n",
       "      <th>User’s Playback Format</th>\n",
       "      <th>UTC Offset In Seconds</th>\n",
       "    </tr>\n",
       "  </thead>\n",
       "  <tbody>\n",
       "    <tr>\n",
       "      <th>0</th>\n",
       "      <td>8080964677</td>\n",
       "      <td>True</td>\n",
       "      <td>CKay</td>\n",
       "      <td>NaN</td>\n",
       "      <td>41.184.227.168</td>\n",
       "      <td>unknown-guid</td>\n",
       "      <td>0.0</td>\n",
       "      <td>TRACK_SKIPPED_FORWARDS</td>\n",
       "      <td>2022-02-20T20:15:43.618Z</td>\n",
       "      <td>NOT_SPECIFIED</td>\n",
       "      <td>...</td>\n",
       "      <td>False</td>\n",
       "      <td>NaN</td>\n",
       "      <td>NaN</td>\n",
       "      <td>Show My Side (feat. Amaarae)</td>\n",
       "      <td>ORIGINATING_DEVICE</td>\n",
       "      <td>0</td>\n",
       "      <td>Nigeria</td>\n",
       "      <td>NaN</td>\n",
       "      <td>NaN</td>\n",
       "      <td>3600.0</td>\n",
       "    </tr>\n",
       "    <tr>\n",
       "      <th>1</th>\n",
       "      <td>8080964677</td>\n",
       "      <td>True</td>\n",
       "      <td>DanDizzy</td>\n",
       "      <td>Music/3.1 iOS/12.3.1 model/iPhone9,3 hwp/t8010...</td>\n",
       "      <td>105.112.50.152</td>\n",
       "      <td>67b33bee274d9d9c174173f987728c06f1fde285</td>\n",
       "      <td>184830.0</td>\n",
       "      <td>NATURAL_END_OF_TRACK</td>\n",
       "      <td>2019-07-22T17:24:17.954Z</td>\n",
       "      <td>NOT_SPECIFIED</td>\n",
       "      <td>...</td>\n",
       "      <td>NaN</td>\n",
       "      <td>NaN</td>\n",
       "      <td>NaN</td>\n",
       "      <td>Uncle Shuga Daddy</td>\n",
       "      <td>ORIGINATING_DEVICE</td>\n",
       "      <td>0</td>\n",
       "      <td>Nigeria</td>\n",
       "      <td>NaN</td>\n",
       "      <td>NaN</td>\n",
       "      <td>3600.0</td>\n",
       "    </tr>\n",
       "    <tr>\n",
       "      <th>2</th>\n",
       "      <td>8080964677</td>\n",
       "      <td>True</td>\n",
       "      <td>Khalid</td>\n",
       "      <td>Music/3.1 iOS/12.1.2 model/iPhone7,2 hwp/t7000...</td>\n",
       "      <td>41.203.93.115</td>\n",
       "      <td>e237c5cedc48b502fd85c611a7dc903b687379b8</td>\n",
       "      <td>209606.0</td>\n",
       "      <td>NATURAL_END_OF_TRACK</td>\n",
       "      <td>2019-01-01T12:53:23.511Z</td>\n",
       "      <td>NOT_SPECIFIED</td>\n",
       "      <td>...</td>\n",
       "      <td>NaN</td>\n",
       "      <td>NaN</td>\n",
       "      <td>NaN</td>\n",
       "      <td>Saturday Nights</td>\n",
       "      <td>ORIGINATING_DEVICE</td>\n",
       "      <td>0</td>\n",
       "      <td>Nigeria</td>\n",
       "      <td>NaN</td>\n",
       "      <td>NaN</td>\n",
       "      <td>3600.0</td>\n",
       "    </tr>\n",
       "    <tr>\n",
       "      <th>3</th>\n",
       "      <td>8080964677</td>\n",
       "      <td>True</td>\n",
       "      <td>Migos</td>\n",
       "      <td>Music/3.1 iOS/14.2 model/iPhone11,8 hwp/t8020 ...</td>\n",
       "      <td>105.112.186.129</td>\n",
       "      <td>00008020-000A54C62E8A002E</td>\n",
       "      <td>28470.0</td>\n",
       "      <td>PLAYBACK_MANUALLY_PAUSED</td>\n",
       "      <td>2020-12-10T20:56:45.550Z</td>\n",
       "      <td>NOT_SPECIFIED</td>\n",
       "      <td>...</td>\n",
       "      <td>NaN</td>\n",
       "      <td>NaN</td>\n",
       "      <td>NaN</td>\n",
       "      <td>Kelly Price (feat. Travis Scott)</td>\n",
       "      <td>ORIGINATING_DEVICE</td>\n",
       "      <td>26072</td>\n",
       "      <td>Nigeria</td>\n",
       "      <td>NaN</td>\n",
       "      <td>NaN</td>\n",
       "      <td>3600.0</td>\n",
       "    </tr>\n",
       "    <tr>\n",
       "      <th>4</th>\n",
       "      <td>8080964677</td>\n",
       "      <td>True</td>\n",
       "      <td>Migos</td>\n",
       "      <td>Music/3.1 iOS/14.2 model/iPhone11,8 hwp/t8020 ...</td>\n",
       "      <td>105.112.186.129</td>\n",
       "      <td>00008020-000A54C62E8A002E</td>\n",
       "      <td>9947.0</td>\n",
       "      <td>SCRUB_END</td>\n",
       "      <td>2020-12-10T20:56:49.556Z</td>\n",
       "      <td>NOT_SPECIFIED</td>\n",
       "      <td>...</td>\n",
       "      <td>NaN</td>\n",
       "      <td>NaN</td>\n",
       "      <td>NaN</td>\n",
       "      <td>Kelly Price (feat. Travis Scott)</td>\n",
       "      <td>ORIGINATING_DEVICE</td>\n",
       "      <td>15915</td>\n",
       "      <td>Nigeria</td>\n",
       "      <td>NaN</td>\n",
       "      <td>NaN</td>\n",
       "      <td>3600.0</td>\n",
       "    </tr>\n",
       "  </tbody>\n",
       "</table>\n",
       "<p>5 rows × 38 columns</p>\n",
       "</div>"
      ],
      "text/plain": [
       "   Apple ID Number Apple Music Subscription Artist Name  \\\n",
       "0       8080964677                     True        CKay   \n",
       "1       8080964677                     True    DanDizzy   \n",
       "2       8080964677                     True      Khalid   \n",
       "3       8080964677                     True       Migos   \n",
       "4       8080964677                     True       Migos   \n",
       "\n",
       "                                       Build Version Client IP Address  \\\n",
       "0                                                NaN    41.184.227.168   \n",
       "1  Music/3.1 iOS/12.3.1 model/iPhone9,3 hwp/t8010...    105.112.50.152   \n",
       "2  Music/3.1 iOS/12.1.2 model/iPhone7,2 hwp/t7000...     41.203.93.115   \n",
       "3  Music/3.1 iOS/14.2 model/iPhone11,8 hwp/t8020 ...   105.112.186.129   \n",
       "4  Music/3.1 iOS/14.2 model/iPhone11,8 hwp/t8020 ...   105.112.186.129   \n",
       "\n",
       "                          Device Identifier  End Position In Milliseconds  \\\n",
       "0                              unknown-guid                           0.0   \n",
       "1  67b33bee274d9d9c174173f987728c06f1fde285                      184830.0   \n",
       "2  e237c5cedc48b502fd85c611a7dc903b687379b8                      209606.0   \n",
       "3                 00008020-000A54C62E8A002E                       28470.0   \n",
       "4                 00008020-000A54C62E8A002E                        9947.0   \n",
       "\n",
       "            End Reason Type       Event End Timestamp Event Reason Hint Type  \\\n",
       "0    TRACK_SKIPPED_FORWARDS  2022-02-20T20:15:43.618Z          NOT_SPECIFIED   \n",
       "1      NATURAL_END_OF_TRACK  2019-07-22T17:24:17.954Z          NOT_SPECIFIED   \n",
       "2      NATURAL_END_OF_TRACK  2019-01-01T12:53:23.511Z          NOT_SPECIFIED   \n",
       "3  PLAYBACK_MANUALLY_PAUSED  2020-12-10T20:56:45.550Z          NOT_SPECIFIED   \n",
       "4                 SCRUB_END  2020-12-10T20:56:49.556Z          NOT_SPECIFIED   \n",
       "\n",
       "   ... Session Is Shared Shared Activity Devices-Current  \\\n",
       "0  ...             False                             NaN   \n",
       "1  ...               NaN                             NaN   \n",
       "2  ...               NaN                             NaN   \n",
       "3  ...               NaN                             NaN   \n",
       "4  ...               NaN                             NaN   \n",
       "\n",
       "  Shared Activity Devices-Max                         Song Name  \\\n",
       "0                         NaN      Show My Side (feat. Amaarae)   \n",
       "1                         NaN                 Uncle Shuga Daddy   \n",
       "2                         NaN                   Saturday Nights   \n",
       "3                         NaN  Kelly Price (feat. Travis Scott)   \n",
       "4                         NaN  Kelly Price (feat. Travis Scott)   \n",
       "\n",
       "          Source Type  Start Position In Milliseconds Store Front Name  \\\n",
       "0  ORIGINATING_DEVICE                               0          Nigeria   \n",
       "1  ORIGINATING_DEVICE                               0          Nigeria   \n",
       "2  ORIGINATING_DEVICE                               0          Nigeria   \n",
       "3  ORIGINATING_DEVICE                           26072          Nigeria   \n",
       "4  ORIGINATING_DEVICE                           15915          Nigeria   \n",
       "\n",
       "   User’s Audio Quality User’s Playback Format  UTC Offset In Seconds  \n",
       "0                   NaN                    NaN                 3600.0  \n",
       "1                   NaN                    NaN                 3600.0  \n",
       "2                   NaN                    NaN                 3600.0  \n",
       "3                   NaN                    NaN                 3600.0  \n",
       "4                   NaN                    NaN                 3600.0  \n",
       "\n",
       "[5 rows x 38 columns]"
      ]
     },
     "execution_count": 64,
     "metadata": {},
     "output_type": "execute_result"
    }
   ],
   "source": [
    "music_df.head()"
   ]
  },
  {
   "cell_type": "code",
   "execution_count": 65,
   "metadata": {},
   "outputs": [
    {
     "name": "stdout",
     "output_type": "stream",
     "text": [
      "Rows x Colums: (123261, 38)\n"
     ]
    }
   ],
   "source": [
    "#Check data shape\n",
    "print(f'Rows x Colums: {music_df.shape}')"
   ]
  },
  {
   "cell_type": "code",
   "execution_count": 66,
   "metadata": {},
   "outputs": [
    {
     "data": {
      "text/plain": [
       "['Apple ID Number',\n",
       " 'Apple Music Subscription',\n",
       " 'Artist Name',\n",
       " 'Build Version',\n",
       " 'Client IP Address',\n",
       " 'Device Identifier',\n",
       " 'End Position In Milliseconds',\n",
       " 'End Reason Type',\n",
       " 'Event End Timestamp',\n",
       " 'Event Reason Hint Type',\n",
       " 'Event Received Timestamp',\n",
       " 'Event Start Timestamp',\n",
       " 'Event Type',\n",
       " 'Feature Name',\n",
       " 'Item Type',\n",
       " 'Media Duration In Milliseconds',\n",
       " 'Media Type',\n",
       " 'Metrics Bucket Id',\n",
       " 'Metrics Client Id',\n",
       " 'Milliseconds Since Play',\n",
       " 'Offline',\n",
       " 'Play Duration Milliseconds',\n",
       " 'Provided Audio Bit Depth',\n",
       " 'Provided Audio Channel',\n",
       " 'Provided Audio Sample Rate',\n",
       " 'Provided Bit Rate',\n",
       " 'Provided Codec',\n",
       " 'Provided Playback Format',\n",
       " 'Session Is Shared',\n",
       " 'Shared Activity Devices-Current',\n",
       " 'Shared Activity Devices-Max',\n",
       " 'Song Name',\n",
       " 'Source Type',\n",
       " 'Start Position In Milliseconds',\n",
       " 'Store Front Name',\n",
       " 'User’s Audio Quality',\n",
       " 'User’s Playback Format',\n",
       " 'UTC Offset In Seconds']"
      ]
     },
     "execution_count": 66,
     "metadata": {},
     "output_type": "execute_result"
    }
   ],
   "source": [
    "#Check column names\n",
    "music_df.columns.to_list()"
   ]
  },
  {
   "cell_type": "markdown",
   "metadata": {},
   "source": [
    "Displaying basic stats"
   ]
  },
  {
   "cell_type": "code",
   "execution_count": 67,
   "metadata": {},
   "outputs": [
    {
     "name": "stdout",
     "output_type": "stream",
     "text": [
      "<class 'pandas.core.frame.DataFrame'>\n",
      "RangeIndex: 123261 entries, 0 to 123260\n",
      "Data columns (total 38 columns):\n",
      " #   Column                           Non-Null Count   Dtype  \n",
      "---  ------                           --------------   -----  \n",
      " 0   Apple ID Number                  123261 non-null  int64  \n",
      " 1   Apple Music Subscription         123223 non-null  object \n",
      " 2   Artist Name                      119750 non-null  object \n",
      " 3   Build Version                    115930 non-null  object \n",
      " 4   Client IP Address                120024 non-null  object \n",
      " 5   Device Identifier                123260 non-null  object \n",
      " 6   End Position In Milliseconds     122036 non-null  float64\n",
      " 7   End Reason Type                  120572 non-null  object \n",
      " 8   Event End Timestamp              122036 non-null  object \n",
      " 9   Event Reason Hint Type           120573 non-null  object \n",
      " 10  Event Received Timestamp         123261 non-null  object \n",
      " 11  Event Start Timestamp            117579 non-null  object \n",
      " 12  Event Type                       120573 non-null  object \n",
      " 13  Feature Name                     112920 non-null  object \n",
      " 14  Item Type                        123261 non-null  object \n",
      " 15  Media Duration In Milliseconds   123058 non-null  float64\n",
      " 16  Media Type                       120806 non-null  object \n",
      " 17  Metrics Bucket Id                110412 non-null  float64\n",
      " 18  Metrics Client Id                122353 non-null  object \n",
      " 19  Milliseconds Since Play          123261 non-null  int64  \n",
      " 20  Offline                          121246 non-null  object \n",
      " 21  Play Duration Milliseconds       122036 non-null  float64\n",
      " 22  Provided Audio Bit Depth         1358 non-null    float64\n",
      " 23  Provided Audio Channel           1358 non-null    object \n",
      " 24  Provided Audio Sample Rate       1358 non-null    float64\n",
      " 25  Provided Bit Rate                1358 non-null    float64\n",
      " 26  Provided Codec                   1358 non-null    object \n",
      " 27  Provided Playback Format         1358 non-null    object \n",
      " 28  Session Is Shared                21549 non-null   object \n",
      " 29  Shared Activity Devices-Current  0 non-null       float64\n",
      " 30  Shared Activity Devices-Max      0 non-null       float64\n",
      " 31  Song Name                        119750 non-null  object \n",
      " 32  Source Type                      120787 non-null  object \n",
      " 33  Start Position In Milliseconds   123261 non-null  int64  \n",
      " 34  Store Front Name                 123261 non-null  object \n",
      " 35  User’s Audio Quality             1358 non-null    object \n",
      " 36  User’s Playback Format           1358 non-null    object \n",
      " 37  UTC Offset In Seconds            123082 non-null  float64\n",
      "dtypes: float64(10), int64(3), object(25)\n",
      "memory usage: 35.7+ MB\n"
     ]
    }
   ],
   "source": [
    "music_df.info()"
   ]
  },
  {
   "cell_type": "code",
   "execution_count": 68,
   "metadata": {},
   "outputs": [
    {
     "data": {
      "text/html": [
       "<div>\n",
       "<style scoped>\n",
       "    .dataframe tbody tr th:only-of-type {\n",
       "        vertical-align: middle;\n",
       "    }\n",
       "\n",
       "    .dataframe tbody tr th {\n",
       "        vertical-align: top;\n",
       "    }\n",
       "\n",
       "    .dataframe thead th {\n",
       "        text-align: right;\n",
       "    }\n",
       "</style>\n",
       "<table border=\"1\" class=\"dataframe\">\n",
       "  <thead>\n",
       "    <tr style=\"text-align: right;\">\n",
       "      <th></th>\n",
       "      <th>Apple ID Number</th>\n",
       "      <th>End Position In Milliseconds</th>\n",
       "      <th>Media Duration In Milliseconds</th>\n",
       "      <th>Metrics Bucket Id</th>\n",
       "      <th>Milliseconds Since Play</th>\n",
       "      <th>Play Duration Milliseconds</th>\n",
       "      <th>Provided Audio Bit Depth</th>\n",
       "      <th>Provided Audio Sample Rate</th>\n",
       "      <th>Provided Bit Rate</th>\n",
       "      <th>Shared Activity Devices-Current</th>\n",
       "      <th>Shared Activity Devices-Max</th>\n",
       "      <th>Start Position In Milliseconds</th>\n",
       "      <th>UTC Offset In Seconds</th>\n",
       "    </tr>\n",
       "  </thead>\n",
       "  <tbody>\n",
       "    <tr>\n",
       "      <th>count</th>\n",
       "      <td>1.232610e+05</td>\n",
       "      <td>1.220360e+05</td>\n",
       "      <td>1.230580e+05</td>\n",
       "      <td>110412.000000</td>\n",
       "      <td>1.232610e+05</td>\n",
       "      <td>1.220360e+05</td>\n",
       "      <td>1358.0</td>\n",
       "      <td>1358.0</td>\n",
       "      <td>1358.000000</td>\n",
       "      <td>0.0</td>\n",
       "      <td>0.0</td>\n",
       "      <td>1.232610e+05</td>\n",
       "      <td>123082.00000</td>\n",
       "    </tr>\n",
       "    <tr>\n",
       "      <th>mean</th>\n",
       "      <td>8.080965e+09</td>\n",
       "      <td>1.972363e+05</td>\n",
       "      <td>2.189928e+05</td>\n",
       "      <td>5959.233072</td>\n",
       "      <td>2.813268e+06</td>\n",
       "      <td>1.735822e+05</td>\n",
       "      <td>0.0</td>\n",
       "      <td>0.0</td>\n",
       "      <td>286020.618557</td>\n",
       "      <td>NaN</td>\n",
       "      <td>NaN</td>\n",
       "      <td>2.357540e+04</td>\n",
       "      <td>3504.47344</td>\n",
       "    </tr>\n",
       "    <tr>\n",
       "      <th>std</th>\n",
       "      <td>0.000000e+00</td>\n",
       "      <td>3.391455e+06</td>\n",
       "      <td>2.630183e+05</td>\n",
       "      <td>2557.355500</td>\n",
       "      <td>1.290704e+08</td>\n",
       "      <td>3.391659e+06</td>\n",
       "      <td>0.0</td>\n",
       "      <td>0.0</td>\n",
       "      <td>253465.425168</td>\n",
       "      <td>NaN</td>\n",
       "      <td>NaN</td>\n",
       "      <td>7.748172e+04</td>\n",
       "      <td>584.21006</td>\n",
       "    </tr>\n",
       "    <tr>\n",
       "      <th>min</th>\n",
       "      <td>8.080965e+09</td>\n",
       "      <td>-1.348178e+07</td>\n",
       "      <td>0.000000e+00</td>\n",
       "      <td>259.000000</td>\n",
       "      <td>0.000000e+00</td>\n",
       "      <td>-1.354253e+07</td>\n",
       "      <td>0.0</td>\n",
       "      <td>0.0</td>\n",
       "      <td>64000.000000</td>\n",
       "      <td>NaN</td>\n",
       "      <td>NaN</td>\n",
       "      <td>-7.875460e+05</td>\n",
       "      <td>0.00000</td>\n",
       "    </tr>\n",
       "    <tr>\n",
       "      <th>25%</th>\n",
       "      <td>8.080965e+09</td>\n",
       "      <td>3.693750e+03</td>\n",
       "      <td>1.819510e+05</td>\n",
       "      <td>2852.000000</td>\n",
       "      <td>8.100000e+01</td>\n",
       "      <td>1.407000e+03</td>\n",
       "      <td>0.0</td>\n",
       "      <td>0.0</td>\n",
       "      <td>64000.000000</td>\n",
       "      <td>NaN</td>\n",
       "      <td>NaN</td>\n",
       "      <td>0.000000e+00</td>\n",
       "      <td>3600.00000</td>\n",
       "    </tr>\n",
       "    <tr>\n",
       "      <th>50%</th>\n",
       "      <td>8.080965e+09</td>\n",
       "      <td>1.008215e+05</td>\n",
       "      <td>2.066800e+05</td>\n",
       "      <td>6271.000000</td>\n",
       "      <td>2.080000e+02</td>\n",
       "      <td>3.928950e+04</td>\n",
       "      <td>0.0</td>\n",
       "      <td>0.0</td>\n",
       "      <td>256000.000000</td>\n",
       "      <td>NaN</td>\n",
       "      <td>NaN</td>\n",
       "      <td>0.000000e+00</td>\n",
       "      <td>3600.00000</td>\n",
       "    </tr>\n",
       "    <tr>\n",
       "      <th>75%</th>\n",
       "      <td>8.080965e+09</td>\n",
       "      <td>1.891762e+05</td>\n",
       "      <td>2.378970e+05</td>\n",
       "      <td>7872.000000</td>\n",
       "      <td>1.334000e+03</td>\n",
       "      <td>1.742435e+05</td>\n",
       "      <td>0.0</td>\n",
       "      <td>0.0</td>\n",
       "      <td>256000.000000</td>\n",
       "      <td>NaN</td>\n",
       "      <td>NaN</td>\n",
       "      <td>0.000000e+00</td>\n",
       "      <td>3600.00000</td>\n",
       "    </tr>\n",
       "    <tr>\n",
       "      <th>max</th>\n",
       "      <td>8.080965e+09</td>\n",
       "      <td>4.205080e+08</td>\n",
       "      <td>2.550600e+07</td>\n",
       "      <td>9955.000000</td>\n",
       "      <td>1.018485e+10</td>\n",
       "      <td>4.205080e+08</td>\n",
       "      <td>0.0</td>\n",
       "      <td>0.0</td>\n",
       "      <td>768000.000000</td>\n",
       "      <td>NaN</td>\n",
       "      <td>NaN</td>\n",
       "      <td>3.988729e+06</td>\n",
       "      <td>7200.00000</td>\n",
       "    </tr>\n",
       "  </tbody>\n",
       "</table>\n",
       "</div>"
      ],
      "text/plain": [
       "       Apple ID Number  End Position In Milliseconds  \\\n",
       "count     1.232610e+05                  1.220360e+05   \n",
       "mean      8.080965e+09                  1.972363e+05   \n",
       "std       0.000000e+00                  3.391455e+06   \n",
       "min       8.080965e+09                 -1.348178e+07   \n",
       "25%       8.080965e+09                  3.693750e+03   \n",
       "50%       8.080965e+09                  1.008215e+05   \n",
       "75%       8.080965e+09                  1.891762e+05   \n",
       "max       8.080965e+09                  4.205080e+08   \n",
       "\n",
       "       Media Duration In Milliseconds  Metrics Bucket Id  \\\n",
       "count                    1.230580e+05      110412.000000   \n",
       "mean                     2.189928e+05        5959.233072   \n",
       "std                      2.630183e+05        2557.355500   \n",
       "min                      0.000000e+00         259.000000   \n",
       "25%                      1.819510e+05        2852.000000   \n",
       "50%                      2.066800e+05        6271.000000   \n",
       "75%                      2.378970e+05        7872.000000   \n",
       "max                      2.550600e+07        9955.000000   \n",
       "\n",
       "       Milliseconds Since Play  Play Duration Milliseconds  \\\n",
       "count             1.232610e+05                1.220360e+05   \n",
       "mean              2.813268e+06                1.735822e+05   \n",
       "std               1.290704e+08                3.391659e+06   \n",
       "min               0.000000e+00               -1.354253e+07   \n",
       "25%               8.100000e+01                1.407000e+03   \n",
       "50%               2.080000e+02                3.928950e+04   \n",
       "75%               1.334000e+03                1.742435e+05   \n",
       "max               1.018485e+10                4.205080e+08   \n",
       "\n",
       "       Provided Audio Bit Depth  Provided Audio Sample Rate  \\\n",
       "count                    1358.0                      1358.0   \n",
       "mean                        0.0                         0.0   \n",
       "std                         0.0                         0.0   \n",
       "min                         0.0                         0.0   \n",
       "25%                         0.0                         0.0   \n",
       "50%                         0.0                         0.0   \n",
       "75%                         0.0                         0.0   \n",
       "max                         0.0                         0.0   \n",
       "\n",
       "       Provided Bit Rate  Shared Activity Devices-Current  \\\n",
       "count        1358.000000                              0.0   \n",
       "mean       286020.618557                              NaN   \n",
       "std        253465.425168                              NaN   \n",
       "min         64000.000000                              NaN   \n",
       "25%         64000.000000                              NaN   \n",
       "50%        256000.000000                              NaN   \n",
       "75%        256000.000000                              NaN   \n",
       "max        768000.000000                              NaN   \n",
       "\n",
       "       Shared Activity Devices-Max  Start Position In Milliseconds  \\\n",
       "count                          0.0                    1.232610e+05   \n",
       "mean                           NaN                    2.357540e+04   \n",
       "std                            NaN                    7.748172e+04   \n",
       "min                            NaN                   -7.875460e+05   \n",
       "25%                            NaN                    0.000000e+00   \n",
       "50%                            NaN                    0.000000e+00   \n",
       "75%                            NaN                    0.000000e+00   \n",
       "max                            NaN                    3.988729e+06   \n",
       "\n",
       "       UTC Offset In Seconds  \n",
       "count           123082.00000  \n",
       "mean              3504.47344  \n",
       "std                584.21006  \n",
       "min                  0.00000  \n",
       "25%               3600.00000  \n",
       "50%               3600.00000  \n",
       "75%               3600.00000  \n",
       "max               7200.00000  "
      ]
     },
     "execution_count": 68,
     "metadata": {},
     "output_type": "execute_result"
    }
   ],
   "source": [
    "music_df.describe()"
   ]
  },
  {
   "cell_type": "code",
   "execution_count": 69,
   "metadata": {},
   "outputs": [
    {
     "data": {
      "text/plain": [
       "Apple ID Number                         0\n",
       "Apple Music Subscription               38\n",
       "Artist Name                          3511\n",
       "Build Version                        7331\n",
       "Client IP Address                    3237\n",
       "Device Identifier                       1\n",
       "End Position In Milliseconds         1225\n",
       "End Reason Type                      2689\n",
       "Event End Timestamp                  1225\n",
       "Event Reason Hint Type               2688\n",
       "Event Received Timestamp                0\n",
       "Event Start Timestamp                5682\n",
       "Event Type                           2688\n",
       "Feature Name                        10341\n",
       "Item Type                               0\n",
       "Media Duration In Milliseconds        203\n",
       "Media Type                           2455\n",
       "Metrics Bucket Id                   12849\n",
       "Metrics Client Id                     908\n",
       "Milliseconds Since Play                 0\n",
       "Offline                              2015\n",
       "Play Duration Milliseconds           1225\n",
       "Provided Audio Bit Depth           121903\n",
       "Provided Audio Channel             121903\n",
       "Provided Audio Sample Rate         121903\n",
       "Provided Bit Rate                  121903\n",
       "Provided Codec                     121903\n",
       "Provided Playback Format           121903\n",
       "Session Is Shared                  101712\n",
       "Shared Activity Devices-Current    123261\n",
       "Shared Activity Devices-Max        123261\n",
       "Song Name                            3511\n",
       "Source Type                          2474\n",
       "Start Position In Milliseconds          0\n",
       "Store Front Name                        0\n",
       "User’s Audio Quality               121903\n",
       "User’s Playback Format             121903\n",
       "UTC Offset In Seconds                 179\n",
       "dtype: int64"
      ]
     },
     "execution_count": 69,
     "metadata": {},
     "output_type": "execute_result"
    }
   ],
   "source": [
    "#Check for number of missing values\n",
    "music_df.isnull().sum()"
   ]
  },
  {
   "cell_type": "code",
   "execution_count": 70,
   "metadata": {},
   "outputs": [
    {
     "data": {
      "text/plain": [
       "<AxesSubplot:>"
      ]
     },
     "execution_count": 70,
     "metadata": {},
     "output_type": "execute_result"
    },
    {
     "data": {
      "image/png": "[encoded data removed]",
      "text/plain": [
       "<Figure size 864x432 with 2 Axes>"
      ]
     },
     "metadata": {},
     "output_type": "display_data"
    }
   ],
   "source": [
    "sns.heatmap(music_df.isnull())"
   ]
  },
  {
   "cell_type": "markdown",
   "metadata": {},
   "source": [
    "The DataFrame has many columns that are almost filled with NULL VALUES. These columns need to be removed. The target is to get the heatmap above to be as dark as possible."
   ]
  },
  {
   "cell_type": "code",
   "execution_count": 71,
   "metadata": {},
   "outputs": [
    {
     "name": "stdout",
     "output_type": "stream",
     "text": [
      "Shared Activity Devices-Current\n",
      "Shared Activity Devices-Max\n"
     ]
    }
   ],
   "source": [
    "for col in music_df.columns:\n",
    "    if music_df[col].isnull().all() == True:\n",
    "        print(col)"
   ]
  },
  {
   "cell_type": "code",
   "execution_count": 72,
   "metadata": {},
   "outputs": [
    {
     "data": {
      "text/plain": [
       "(array([ True]), array([123261], dtype=int64))"
      ]
     },
     "execution_count": 72,
     "metadata": {},
     "output_type": "execute_result"
    }
   ],
   "source": [
    "np.unique(music_df['Shared Activity Devices-Current'].isnull(),return_counts=True)\n"
   ]
  },
  {
   "cell_type": "code",
   "execution_count": 73,
   "metadata": {},
   "outputs": [
    {
     "data": {
      "text/plain": [
       "121903"
      ]
     },
     "execution_count": 73,
     "metadata": {},
     "output_type": "execute_result"
    }
   ],
   "source": [
    "music_df['Provided Bit Rate'].isnull().value_counts()[True]\n"
   ]
  },
  {
   "cell_type": "code",
   "execution_count": 74,
   "metadata": {},
   "outputs": [],
   "source": [
    "nans = []\n",
    "\n",
    "for col in music_df.columns:\n",
    "    if music_df[col].isnull().all() == True:\n",
    "        nans.append(col)\n",
    "    elif music_df[col].isnull().value_counts()[False] < 100000:\n",
    "        nans.append(col)\n",
    "\n",
    "music_df.drop(nans,axis=1,inplace=True)\n"
   ]
  },
  {
   "cell_type": "code",
   "execution_count": 75,
   "metadata": {},
   "outputs": [
    {
     "name": "stdout",
     "output_type": "stream",
     "text": [
      "Rows x Colums: (123261, 27)\n"
     ]
    }
   ],
   "source": [
    "print(f'Rows x Colums: {music_df.shape}')"
   ]
  },
  {
   "cell_type": "markdown",
   "metadata": {},
   "source": [
    "The number of columns has reduced from 38 to 27"
   ]
  },
  {
   "cell_type": "code",
   "execution_count": 76,
   "metadata": {},
   "outputs": [
    {
     "data": {
      "text/plain": [
       "<AxesSubplot:>"
      ]
     },
     "execution_count": 76,
     "metadata": {},
     "output_type": "execute_result"
    },
    {
     "data": {
      "image/png": "[encoded data removed]",
      "text/plain": [
       "<Figure size 864x432 with 2 Axes>"
      ]
     },
     "metadata": {},
     "output_type": "display_data"
    }
   ],
   "source": [
    "sns.heatmap(data=music_df.isnull())"
   ]
  },
  {
   "cell_type": "code",
   "execution_count": 77,
   "metadata": {},
   "outputs": [
    {
     "data": {
      "text/plain": [
       "Apple ID Number                       0\n",
       "Apple Music Subscription             38\n",
       "Artist Name                        3511\n",
       "Build Version                      7331\n",
       "Client IP Address                  3237\n",
       "Device Identifier                     1\n",
       "End Position In Milliseconds       1225\n",
       "End Reason Type                    2689\n",
       "Event End Timestamp                1225\n",
       "Event Reason Hint Type             2688\n",
       "Event Received Timestamp              0\n",
       "Event Start Timestamp              5682\n",
       "Event Type                         2688\n",
       "Feature Name                      10341\n",
       "Item Type                             0\n",
       "Media Duration In Milliseconds      203\n",
       "Media Type                         2455\n",
       "Metrics Bucket Id                 12849\n",
       "Metrics Client Id                   908\n",
       "Milliseconds Since Play               0\n",
       "Offline                            2015\n",
       "Play Duration Milliseconds         1225\n",
       "Song Name                          3511\n",
       "Source Type                        2474\n",
       "Start Position In Milliseconds        0\n",
       "Store Front Name                      0\n",
       "UTC Offset In Seconds               179\n",
       "dtype: int64"
      ]
     },
     "execution_count": 77,
     "metadata": {},
     "output_type": "execute_result"
    }
   ],
   "source": [
    "music_df.isnull().sum()"
   ]
  },
  {
   "cell_type": "markdown",
   "metadata": {},
   "source": [
    "There are column's like ID which are not going to contribute much in the analysis. So we will drop these columns as well manually."
   ]
  },
  {
   "cell_type": "code",
   "execution_count": 78,
   "metadata": {},
   "outputs": [],
   "source": [
    "to_delete = ['Apple ID Number', 'Build Version', 'Client IP Address', 'Device Identifier', 'Metrics Bucket Id', 'Metrics Client Id', 'UTC Offset In Seconds']\n",
    "music_df.drop(to_delete, axis=1, inplace=True)"
   ]
  },
  {
   "cell_type": "code",
   "execution_count": 79,
   "metadata": {},
   "outputs": [
    {
     "data": {
      "text/plain": [
       "Apple Music Subscription             38\n",
       "Artist Name                        3511\n",
       "End Position In Milliseconds       1225\n",
       "End Reason Type                    2689\n",
       "Event End Timestamp                1225\n",
       "Event Reason Hint Type             2688\n",
       "Event Received Timestamp              0\n",
       "Event Start Timestamp              5682\n",
       "Event Type                         2688\n",
       "Feature Name                      10341\n",
       "Item Type                             0\n",
       "Media Duration In Milliseconds      203\n",
       "Media Type                         2455\n",
       "Milliseconds Since Play               0\n",
       "Offline                            2015\n",
       "Play Duration Milliseconds         1225\n",
       "Song Name                          3511\n",
       "Source Type                        2474\n",
       "Start Position In Milliseconds        0\n",
       "Store Front Name                      0\n",
       "dtype: int64"
      ]
     },
     "execution_count": 79,
     "metadata": {},
     "output_type": "execute_result"
    }
   ],
   "source": [
    "music_df.isnull().sum()"
   ]
  },
  {
   "cell_type": "markdown",
   "metadata": {},
   "source": [
    "## Converting timestamp columns to actual TimeStamp"
   ]
  },
  {
   "cell_type": "code",
   "execution_count": 80,
   "metadata": {},
   "outputs": [],
   "source": [
    "music_df['Event End Timestamp'] = pd.to_datetime(music_df['Event End Timestamp'], format='%Y-%m-%dT%H:%M:%S')\n",
    "music_df['Event Received Timestamp'] = pd.to_datetime(music_df['Event Received Timestamp'], format='%Y-%m-%dT%H:%M:%S')\n",
    "music_df['Event Start Timestamp'] = pd.to_datetime(music_df['Event Start Timestamp'], format='%Y-%m-%dT%H:%M:%S')"
   ]
  },
  {
   "cell_type": "code",
   "execution_count": 81,
   "metadata": {},
   "outputs": [
    {
     "data": {
      "text/html": [
       "<div>\n",
       "<style scoped>\n",
       "    .dataframe tbody tr th:only-of-type {\n",
       "        vertical-align: middle;\n",
       "    }\n",
       "\n",
       "    .dataframe tbody tr th {\n",
       "        vertical-align: top;\n",
       "    }\n",
       "\n",
       "    .dataframe thead th {\n",
       "        text-align: right;\n",
       "    }\n",
       "</style>\n",
       "<table border=\"1\" class=\"dataframe\">\n",
       "  <thead>\n",
       "    <tr style=\"text-align: right;\">\n",
       "      <th></th>\n",
       "      <th>Apple Music Subscription</th>\n",
       "      <th>Artist Name</th>\n",
       "      <th>End Position In Milliseconds</th>\n",
       "      <th>End Reason Type</th>\n",
       "      <th>Event End Timestamp</th>\n",
       "      <th>Event Reason Hint Type</th>\n",
       "      <th>Event Received Timestamp</th>\n",
       "      <th>Event Start Timestamp</th>\n",
       "      <th>Event Type</th>\n",
       "      <th>Feature Name</th>\n",
       "      <th>Item Type</th>\n",
       "      <th>Media Duration In Milliseconds</th>\n",
       "      <th>Media Type</th>\n",
       "      <th>Milliseconds Since Play</th>\n",
       "      <th>Offline</th>\n",
       "      <th>Play Duration Milliseconds</th>\n",
       "      <th>Song Name</th>\n",
       "      <th>Source Type</th>\n",
       "      <th>Start Position In Milliseconds</th>\n",
       "      <th>Store Front Name</th>\n",
       "    </tr>\n",
       "  </thead>\n",
       "  <tbody>\n",
       "    <tr>\n",
       "      <th>0</th>\n",
       "      <td>True</td>\n",
       "      <td>CKay</td>\n",
       "      <td>0.0</td>\n",
       "      <td>TRACK_SKIPPED_FORWARDS</td>\n",
       "      <td>2022-02-20 20:15:43.618000+00:00</td>\n",
       "      <td>NOT_SPECIFIED</td>\n",
       "      <td>2022-02-20 20:15:44+00:00</td>\n",
       "      <td>2022-02-20 20:15:43.618000+00:00</td>\n",
       "      <td>PLAY_END</td>\n",
       "      <td>now_playing</td>\n",
       "      <td>ITUNES_STORE_CONTENT</td>\n",
       "      <td>122347.0</td>\n",
       "      <td>AUDIO</td>\n",
       "      <td>382</td>\n",
       "      <td>False</td>\n",
       "      <td>0.0</td>\n",
       "      <td>Show My Side (feat. Amaarae)</td>\n",
       "      <td>ORIGINATING_DEVICE</td>\n",
       "      <td>0</td>\n",
       "      <td>Nigeria</td>\n",
       "    </tr>\n",
       "    <tr>\n",
       "      <th>1</th>\n",
       "      <td>True</td>\n",
       "      <td>DanDizzy</td>\n",
       "      <td>184830.0</td>\n",
       "      <td>NATURAL_END_OF_TRACK</td>\n",
       "      <td>2019-07-22 17:24:17.954000+00:00</td>\n",
       "      <td>NOT_SPECIFIED</td>\n",
       "      <td>2019-07-22 17:24:18.165000+00:00</td>\n",
       "      <td>2019-07-22 17:21:13.124000+00:00</td>\n",
       "      <td>PLAY_END</td>\n",
       "      <td>library / playlist_detail</td>\n",
       "      <td>ITUNES_STORE_CONTENT</td>\n",
       "      <td>184830.0</td>\n",
       "      <td>AUDIO</td>\n",
       "      <td>211</td>\n",
       "      <td>False</td>\n",
       "      <td>184830.0</td>\n",
       "      <td>Uncle Shuga Daddy</td>\n",
       "      <td>ORIGINATING_DEVICE</td>\n",
       "      <td>0</td>\n",
       "      <td>Nigeria</td>\n",
       "    </tr>\n",
       "    <tr>\n",
       "      <th>2</th>\n",
       "      <td>True</td>\n",
       "      <td>Khalid</td>\n",
       "      <td>209606.0</td>\n",
       "      <td>NATURAL_END_OF_TRACK</td>\n",
       "      <td>2019-01-01 12:53:23.511000+00:00</td>\n",
       "      <td>NOT_SPECIFIED</td>\n",
       "      <td>2019-01-01 12:53:23.783000+00:00</td>\n",
       "      <td>2019-01-01 12:49:53.905000+00:00</td>\n",
       "      <td>PLAY_END</td>\n",
       "      <td>library / playlist_detail</td>\n",
       "      <td>ITUNES_STORE_CONTENT</td>\n",
       "      <td>209606.0</td>\n",
       "      <td>AUDIO</td>\n",
       "      <td>272</td>\n",
       "      <td>False</td>\n",
       "      <td>209606.0</td>\n",
       "      <td>Saturday Nights</td>\n",
       "      <td>ORIGINATING_DEVICE</td>\n",
       "      <td>0</td>\n",
       "      <td>Nigeria</td>\n",
       "    </tr>\n",
       "    <tr>\n",
       "      <th>3</th>\n",
       "      <td>True</td>\n",
       "      <td>Migos</td>\n",
       "      <td>28470.0</td>\n",
       "      <td>PLAYBACK_MANUALLY_PAUSED</td>\n",
       "      <td>2020-12-10 20:56:45.550000+00:00</td>\n",
       "      <td>NOT_SPECIFIED</td>\n",
       "      <td>2020-12-10 20:56:45.619000+00:00</td>\n",
       "      <td>2020-12-10 20:56:43.152000+00:00</td>\n",
       "      <td>PLAY_END</td>\n",
       "      <td>listen_now / playlist_detail</td>\n",
       "      <td>ITUNES_STORE_CONTENT</td>\n",
       "      <td>364088.0</td>\n",
       "      <td>AUDIO</td>\n",
       "      <td>69</td>\n",
       "      <td>False</td>\n",
       "      <td>2398.0</td>\n",
       "      <td>Kelly Price (feat. Travis Scott)</td>\n",
       "      <td>ORIGINATING_DEVICE</td>\n",
       "      <td>26072</td>\n",
       "      <td>Nigeria</td>\n",
       "    </tr>\n",
       "    <tr>\n",
       "      <th>4</th>\n",
       "      <td>True</td>\n",
       "      <td>Migos</td>\n",
       "      <td>9947.0</td>\n",
       "      <td>SCRUB_END</td>\n",
       "      <td>2020-12-10 20:56:49.556000+00:00</td>\n",
       "      <td>NOT_SPECIFIED</td>\n",
       "      <td>2020-12-10 20:56:50.257000+00:00</td>\n",
       "      <td>NaT</td>\n",
       "      <td>PLAY_END</td>\n",
       "      <td>listen_now / playlist_detail</td>\n",
       "      <td>ITUNES_STORE_CONTENT</td>\n",
       "      <td>364088.0</td>\n",
       "      <td>AUDIO</td>\n",
       "      <td>701</td>\n",
       "      <td>False</td>\n",
       "      <td>-5968.0</td>\n",
       "      <td>Kelly Price (feat. Travis Scott)</td>\n",
       "      <td>ORIGINATING_DEVICE</td>\n",
       "      <td>15915</td>\n",
       "      <td>Nigeria</td>\n",
       "    </tr>\n",
       "  </tbody>\n",
       "</table>\n",
       "</div>"
      ],
      "text/plain": [
       "  Apple Music Subscription Artist Name  End Position In Milliseconds  \\\n",
       "0                     True        CKay                           0.0   \n",
       "1                     True    DanDizzy                      184830.0   \n",
       "2                     True      Khalid                      209606.0   \n",
       "3                     True       Migos                       28470.0   \n",
       "4                     True       Migos                        9947.0   \n",
       "\n",
       "            End Reason Type              Event End Timestamp  \\\n",
       "0    TRACK_SKIPPED_FORWARDS 2022-02-20 20:15:43.618000+00:00   \n",
       "1      NATURAL_END_OF_TRACK 2019-07-22 17:24:17.954000+00:00   \n",
       "2      NATURAL_END_OF_TRACK 2019-01-01 12:53:23.511000+00:00   \n",
       "3  PLAYBACK_MANUALLY_PAUSED 2020-12-10 20:56:45.550000+00:00   \n",
       "4                 SCRUB_END 2020-12-10 20:56:49.556000+00:00   \n",
       "\n",
       "  Event Reason Hint Type         Event Received Timestamp  \\\n",
       "0          NOT_SPECIFIED        2022-02-20 20:15:44+00:00   \n",
       "1          NOT_SPECIFIED 2019-07-22 17:24:18.165000+00:00   \n",
       "2          NOT_SPECIFIED 2019-01-01 12:53:23.783000+00:00   \n",
       "3          NOT_SPECIFIED 2020-12-10 20:56:45.619000+00:00   \n",
       "4          NOT_SPECIFIED 2020-12-10 20:56:50.257000+00:00   \n",
       "\n",
       "             Event Start Timestamp Event Type                  Feature Name  \\\n",
       "0 2022-02-20 20:15:43.618000+00:00   PLAY_END                   now_playing   \n",
       "1 2019-07-22 17:21:13.124000+00:00   PLAY_END     library / playlist_detail   \n",
       "2 2019-01-01 12:49:53.905000+00:00   PLAY_END     library / playlist_detail   \n",
       "3 2020-12-10 20:56:43.152000+00:00   PLAY_END  listen_now / playlist_detail   \n",
       "4                              NaT   PLAY_END  listen_now / playlist_detail   \n",
       "\n",
       "              Item Type  Media Duration In Milliseconds Media Type  \\\n",
       "0  ITUNES_STORE_CONTENT                        122347.0      AUDIO   \n",
       "1  ITUNES_STORE_CONTENT                        184830.0      AUDIO   \n",
       "2  ITUNES_STORE_CONTENT                        209606.0      AUDIO   \n",
       "3  ITUNES_STORE_CONTENT                        364088.0      AUDIO   \n",
       "4  ITUNES_STORE_CONTENT                        364088.0      AUDIO   \n",
       "\n",
       "   Milliseconds Since Play Offline  Play Duration Milliseconds  \\\n",
       "0                      382   False                         0.0   \n",
       "1                      211   False                    184830.0   \n",
       "2                      272   False                    209606.0   \n",
       "3                       69   False                      2398.0   \n",
       "4                      701   False                     -5968.0   \n",
       "\n",
       "                          Song Name         Source Type  \\\n",
       "0      Show My Side (feat. Amaarae)  ORIGINATING_DEVICE   \n",
       "1                 Uncle Shuga Daddy  ORIGINATING_DEVICE   \n",
       "2                   Saturday Nights  ORIGINATING_DEVICE   \n",
       "3  Kelly Price (feat. Travis Scott)  ORIGINATING_DEVICE   \n",
       "4  Kelly Price (feat. Travis Scott)  ORIGINATING_DEVICE   \n",
       "\n",
       "   Start Position In Milliseconds Store Front Name  \n",
       "0                               0          Nigeria  \n",
       "1                               0          Nigeria  \n",
       "2                               0          Nigeria  \n",
       "3                           26072          Nigeria  \n",
       "4                           15915          Nigeria  "
      ]
     },
     "execution_count": 81,
     "metadata": {},
     "output_type": "execute_result"
    }
   ],
   "source": [
    "music_df.head()"
   ]
  },
  {
   "cell_type": "markdown",
   "metadata": {},
   "source": [
    "## DATA ANALYSIS"
   ]
  },
  {
   "cell_type": "markdown",
   "metadata": {},
   "source": [
    "### Questions to ask for data analysis"
   ]
  },
  {
   "cell_type": "markdown",
   "metadata": {},
   "source": [
    "1. Who are the top 10 favourite artists?\n",
    "2. Which are the top 10 songs played?\n",
    "3. Which are the top 10 songs that were listened to for the longest?\n",
    "4. What is the most recurrent reason to end a song?\n",
    "5. Do you prefer to listen to music when you are online or offline?\n",
    "6. What time do you prefer to listen to music?\n",
    "7. Which was your most active day of the week? avg daily listen time?\n",
    "8. Which was your most active month? avg monthly listen time?\n",
    "9. Which was your most active year? avg yearly listen time?\n",
    "10. Total time spent listening to music?\n"
   ]
  },
  {
   "cell_type": "markdown",
   "metadata": {},
   "source": [
    "### What are the top 10 favourite artists?"
   ]
  },
  {
   "cell_type": "code",
   "execution_count": 84,
   "metadata": {},
   "outputs": [
    {
     "data": {
      "text/plain": [
       "Burna Boy        9101\n",
       "Drake            5478\n",
       "Wizkid           3318\n",
       "Migos            2674\n",
       "Justin Bieber    2524\n",
       "Chris Brown      2173\n",
       "Davido           1754\n",
       "Khalid           1329\n",
       "Tekno            1251\n",
       "DJ Khaled        1188\n",
       "Name: Artist Name, dtype: int64"
      ]
     },
     "execution_count": 84,
     "metadata": {},
     "output_type": "execute_result"
    }
   ],
   "source": [
    "top_10_artist = music_df['Artist Name'].value_counts()[:10]\n",
    "top_10_artist"
   ]
  },
  {
   "cell_type": "markdown",
   "metadata": {},
   "source": [
    "### Which are the top 10 songs played?"
   ]
  },
  {
   "cell_type": "code",
   "execution_count": 88,
   "metadata": {},
   "outputs": [
    {
     "data": {
      "application/vnd.plotly.v1+json": {
       "config": {
        "plotlyServerURL": "https://plot.ly"
       },
       "data": [
        {
         "alignmentgroup": "True",
         "hovertemplate": "variable=Artist Name<br>Artists=%{x}<br>No of times songs played=%{y}<extra></extra>",
         "legendgroup": "Artist Name",
         "marker": {
          "color": "#636efa",
          "pattern": {
           "shape": ""
          }
         },
         "name": "Artist Name",
         "offsetgroup": "Artist Name",
         "orientation": "v",
         "showlegend": true,
         "textposition": "auto",
         "type": "bar",
         "x": [
          "Burna Boy",
          "Drake",
          "Wizkid",
          "Migos",
          "Justin Bieber",
          "Chris Brown",
          "Davido",
          "Khalid",
          "Tekno",
          "DJ Khaled"
         ],
         "xaxis": "x",
         "y": [
          9101,
          5478,
          3318,
          2674,
          2524,
          2173,
          1754,
          1329,
          1251,
          1188
         ],
         "yaxis": "y"
        }
       ],
       "layout": {
        "barmode": "relative",
        "legend": {
         "title": {
          "text": "variable"
         },
         "tracegroupgap": 0
        },
        "template": {
         "data": {
          "bar": [
           {
            "error_x": {
             "color": "#2a3f5f"
            },
            "error_y": {
             "color": "#2a3f5f"
            },
            "marker": {
             "line": {
              "color": "#E5ECF6",
              "width": 0.5
             },
             "pattern": {
              "fillmode": "overlay",
              "size": 10,
              "solidity": 0.2
             }
            },
            "type": "bar"
           }
          ],
          "barpolar": [
           {
            "marker": {
             "line": {
              "color": "#E5ECF6",
              "width": 0.5
             },
             "pattern": {
              "fillmode": "overlay",
              "size": 10,
              "solidity": 0.2
             }
            },
            "type": "barpolar"
           }
          ],
          "carpet": [
           {
            "aaxis": {
             "endlinecolor": "#2a3f5f",
             "gridcolor": "white",
             "linecolor": "white",
             "minorgridcolor": "white",
             "startlinecolor": "#2a3f5f"
            },
            "baxis": {
             "endlinecolor": "#2a3f5f",
             "gridcolor": "white",
             "linecolor": "white",
             "minorgridcolor": "white",
             "startlinecolor": "#2a3f5f"
            },
            "type": "carpet"
           }
          ],
          "choropleth": [
           {
            "colorbar": {
             "outlinewidth": 0,
             "ticks": ""
            },
            "type": "choropleth"
           }
          ],
          "contour": [
           {
            "colorbar": {
             "outlinewidth": 0,
             "ticks": ""
            },
            "colorscale": [
             [
              0,
              "#0d0887"
             ],
             [
              0.1111111111111111,
              "#46039f"
             ],
             [
              0.2222222222222222,
              "#7201a8"
             ],
             [
              0.3333333333333333,
              "#9c179e"
             ],
             [
              0.4444444444444444,
              "#bd3786"
             ],
             [
              0.5555555555555556,
              "#d8576b"
             ],
             [
              0.6666666666666666,
              "#ed7953"
             ],
             [
              0.7777777777777778,
              "#fb9f3a"
             ],
             [
              0.8888888888888888,
              "#fdca26"
             ],
             [
              1,
              "#f0f921"
             ]
            ],
            "type": "contour"
           }
          ],
          "contourcarpet": [
           {
            "colorbar": {
             "outlinewidth": 0,
             "ticks": ""
            },
            "type": "contourcarpet"
           }
          ],
          "heatmap": [
           {
            "colorbar": {
             "outlinewidth": 0,
             "ticks": ""
            },
            "colorscale": [
             [
              0,
              "#0d0887"
             ],
             [
              0.1111111111111111,
              "#46039f"
             ],
             [
              0.2222222222222222,
              "#7201a8"
             ],
             [
              0.3333333333333333,
              "#9c179e"
             ],
             [
              0.4444444444444444,
              "#bd3786"
             ],
             [
              0.5555555555555556,
              "#d8576b"
             ],
             [
              0.6666666666666666,
              "#ed7953"
             ],
             [
              0.7777777777777778,
              "#fb9f3a"
             ],
             [
              0.8888888888888888,
              "#fdca26"
             ],
             [
              1,
              "#f0f921"
             ]
            ],
            "type": "heatmap"
           }
          ],
          "heatmapgl": [
           {
            "colorbar": {
             "outlinewidth": 0,
             "ticks": ""
            },
            "colorscale": [
             [
              0,
              "#0d0887"
             ],
             [
              0.1111111111111111,
              "#46039f"
             ],
             [
              0.2222222222222222,
              "#7201a8"
             ],
             [
              0.3333333333333333,
              "#9c179e"
             ],
             [
              0.4444444444444444,
              "#bd3786"
             ],
             [
              0.5555555555555556,
              "#d8576b"
             ],
             [
              0.6666666666666666,
              "#ed7953"
             ],
             [
              0.7777777777777778,
              "#fb9f3a"
             ],
             [
              0.8888888888888888,
              "#fdca26"
             ],
             [
              1,
              "#f0f921"
             ]
            ],
            "type": "heatmapgl"
           }
          ],
          "histogram": [
           {
            "marker": {
             "pattern": {
              "fillmode": "overlay",
              "size": 10,
              "solidity": 0.2
             }
            },
            "type": "histogram"
           }
          ],
          "histogram2d": [
           {
            "colorbar": {
             "outlinewidth": 0,
             "ticks": ""
            },
            "colorscale": [
             [
              0,
              "#0d0887"
             ],
             [
              0.1111111111111111,
              "#46039f"
             ],
             [
              0.2222222222222222,
              "#7201a8"
             ],
             [
              0.3333333333333333,
              "#9c179e"
             ],
             [
              0.4444444444444444,
              "#bd3786"
             ],
             [
              0.5555555555555556,
              "#d8576b"
             ],
             [
              0.6666666666666666,
              "#ed7953"
             ],
             [
              0.7777777777777778,
              "#fb9f3a"
             ],
             [
              0.8888888888888888,
              "#fdca26"
             ],
             [
              1,
              "#f0f921"
             ]
            ],
            "type": "histogram2d"
           }
          ],
          "histogram2dcontour": [
           {
            "colorbar": {
             "outlinewidth": 0,
             "ticks": ""
            },
            "colorscale": [
             [
              0,
              "#0d0887"
             ],
             [
              0.1111111111111111,
              "#46039f"
             ],
             [
              0.2222222222222222,
              "#7201a8"
             ],
             [
              0.3333333333333333,
              "#9c179e"
             ],
             [
              0.4444444444444444,
              "#bd3786"
             ],
             [
              0.5555555555555556,
              "#d8576b"
             ],
             [
              0.6666666666666666,
              "#ed7953"
             ],
             [
              0.7777777777777778,
              "#fb9f3a"
             ],
             [
              0.8888888888888888,
              "#fdca26"
             ],
             [
              1,
              "#f0f921"
             ]
            ],
            "type": "histogram2dcontour"
           }
          ],
          "mesh3d": [
           {
            "colorbar": {
             "outlinewidth": 0,
             "ticks": ""
            },
            "type": "mesh3d"
           }
          ],
          "parcoords": [
           {
            "line": {
             "colorbar": {
              "outlinewidth": 0,
              "ticks": ""
             }
            },
            "type": "parcoords"
           }
          ],
          "pie": [
           {
            "automargin": true,
            "type": "pie"
           }
          ],
          "scatter": [
           {
            "marker": {
             "colorbar": {
              "outlinewidth": 0,
              "ticks": ""
             }
            },
            "type": "scatter"
           }
          ],
          "scatter3d": [
           {
            "line": {
             "colorbar": {
              "outlinewidth": 0,
              "ticks": ""
             }
            },
            "marker": {
             "colorbar": {
              "outlinewidth": 0,
              "ticks": ""
             }
            },
            "type": "scatter3d"
           }
          ],
          "scattercarpet": [
           {
            "marker": {
             "colorbar": {
              "outlinewidth": 0,
              "ticks": ""
             }
            },
            "type": "scattercarpet"
           }
          ],
          "scattergeo": [
           {
            "marker": {
             "colorbar": {
              "outlinewidth": 0,
              "ticks": ""
             }
            },
            "type": "scattergeo"
           }
          ],
          "scattergl": [
           {
            "marker": {
             "colorbar": {
              "outlinewidth": 0,
              "ticks": ""
             }
            },
            "type": "scattergl"
           }
          ],
          "scattermapbox": [
           {
            "marker": {
             "colorbar": {
              "outlinewidth": 0,
              "ticks": ""
             }
            },
            "type": "scattermapbox"
           }
          ],
          "scatterpolar": [
           {
            "marker": {
             "colorbar": {
              "outlinewidth": 0,
              "ticks": ""
             }
            },
            "type": "scatterpolar"
           }
          ],
          "scatterpolargl": [
           {
            "marker": {
             "colorbar": {
              "outlinewidth": 0,
              "ticks": ""
             }
            },
            "type": "scatterpolargl"
           }
          ],
          "scatterternary": [
           {
            "marker": {
             "colorbar": {
              "outlinewidth": 0,
              "ticks": ""
             }
            },
            "type": "scatterternary"
           }
          ],
          "surface": [
           {
            "colorbar": {
             "outlinewidth": 0,
             "ticks": ""
            },
            "colorscale": [
             [
              0,
              "#0d0887"
             ],
             [
              0.1111111111111111,
              "#46039f"
             ],
             [
              0.2222222222222222,
              "#7201a8"
             ],
             [
              0.3333333333333333,
              "#9c179e"
             ],
             [
              0.4444444444444444,
              "#bd3786"
             ],
             [
              0.5555555555555556,
              "#d8576b"
             ],
             [
              0.6666666666666666,
              "#ed7953"
             ],
             [
              0.7777777777777778,
              "#fb9f3a"
             ],
             [
              0.8888888888888888,
              "#fdca26"
             ],
             [
              1,
              "#f0f921"
             ]
            ],
            "type": "surface"
           }
          ],
          "table": [
           {
            "cells": {
             "fill": {
              "color": "#EBF0F8"
             },
             "line": {
              "color": "white"
             }
            },
            "header": {
             "fill": {
              "color": "#C8D4E3"
             },
             "line": {
              "color": "white"
             }
            },
            "type": "table"
           }
          ]
         },
         "layout": {
          "annotationdefaults": {
           "arrowcolor": "#2a3f5f",
           "arrowhead": 0,
           "arrowwidth": 1
          },
          "autotypenumbers": "strict",
          "coloraxis": {
           "colorbar": {
            "outlinewidth": 0,
            "ticks": ""
           }
          },
          "colorscale": {
           "diverging": [
            [
             0,
             "#8e0152"
            ],
            [
             0.1,
             "#c51b7d"
            ],
            [
             0.2,
             "#de77ae"
            ],
            [
             0.3,
             "#f1b6da"
            ],
            [
             0.4,
             "#fde0ef"
            ],
            [
             0.5,
             "#f7f7f7"
            ],
            [
             0.6,
             "#e6f5d0"
            ],
            [
             0.7,
             "#b8e186"
            ],
            [
             0.8,
             "#7fbc41"
            ],
            [
             0.9,
             "#4d9221"
            ],
            [
             1,
             "#276419"
            ]
           ],
           "sequential": [
            [
             0,
             "#0d0887"
            ],
            [
             0.1111111111111111,
             "#46039f"
            ],
            [
             0.2222222222222222,
             "#7201a8"
            ],
            [
             0.3333333333333333,
             "#9c179e"
            ],
            [
             0.4444444444444444,
             "#bd3786"
            ],
            [
             0.5555555555555556,
             "#d8576b"
            ],
            [
             0.6666666666666666,
             "#ed7953"
            ],
            [
             0.7777777777777778,
             "#fb9f3a"
            ],
            [
             0.8888888888888888,
             "#fdca26"
            ],
            [
             1,
             "#f0f921"
            ]
           ],
           "sequentialminus": [
            [
             0,
             "#0d0887"
            ],
            [
             0.1111111111111111,
             "#46039f"
            ],
            [
             0.2222222222222222,
             "#7201a8"
            ],
            [
             0.3333333333333333,
             "#9c179e"
            ],
            [
             0.4444444444444444,
             "#bd3786"
            ],
            [
             0.5555555555555556,
             "#d8576b"
            ],
            [
             0.6666666666666666,
             "#ed7953"
            ],
            [
             0.7777777777777778,
             "#fb9f3a"
            ],
            [
             0.8888888888888888,
             "#fdca26"
            ],
            [
             1,
             "#f0f921"
            ]
           ]
          },
          "colorway": [
           "#636efa",
           "#EF553B",
           "#00cc96",
           "#ab63fa",
           "#FFA15A",
           "#19d3f3",
           "#FF6692",
           "#B6E880",
           "#FF97FF",
           "#FECB52"
          ],
          "font": {
           "color": "#2a3f5f"
          },
          "geo": {
           "bgcolor": "white",
           "lakecolor": "white",
           "landcolor": "#E5ECF6",
           "showlakes": true,
           "showland": true,
           "subunitcolor": "white"
          },
          "hoverlabel": {
           "align": "left"
          },
          "hovermode": "closest",
          "mapbox": {
           "style": "light"
          },
          "paper_bgcolor": "white",
          "plot_bgcolor": "#E5ECF6",
          "polar": {
           "angularaxis": {
            "gridcolor": "white",
            "linecolor": "white",
            "ticks": ""
           },
           "bgcolor": "#E5ECF6",
           "radialaxis": {
            "gridcolor": "white",
            "linecolor": "white",
            "ticks": ""
           }
          },
          "scene": {
           "xaxis": {
            "backgroundcolor": "#E5ECF6",
            "gridcolor": "white",
            "gridwidth": 2,
            "linecolor": "white",
            "showbackground": true,
            "ticks": "",
            "zerolinecolor": "white"
           },
           "yaxis": {
            "backgroundcolor": "#E5ECF6",
            "gridcolor": "white",
            "gridwidth": 2,
            "linecolor": "white",
            "showbackground": true,
            "ticks": "",
            "zerolinecolor": "white"
           },
           "zaxis": {
            "backgroundcolor": "#E5ECF6",
            "gridcolor": "white",
            "gridwidth": 2,
            "linecolor": "white",
            "showbackground": true,
            "ticks": "",
            "zerolinecolor": "white"
           }
          },
          "shapedefaults": {
           "line": {
            "color": "#2a3f5f"
           }
          },
          "ternary": {
           "aaxis": {
            "gridcolor": "white",
            "linecolor": "white",
            "ticks": ""
           },
           "baxis": {
            "gridcolor": "white",
            "linecolor": "white",
            "ticks": ""
           },
           "bgcolor": "#E5ECF6",
           "caxis": {
            "gridcolor": "white",
            "linecolor": "white",
            "ticks": ""
           }
          },
          "title": {
           "x": 0.05
          },
          "xaxis": {
           "automargin": true,
           "gridcolor": "white",
           "linecolor": "white",
           "ticks": "",
           "title": {
            "standoff": 15
           },
           "zerolinecolor": "white",
           "zerolinewidth": 2
          },
          "yaxis": {
           "automargin": true,
           "gridcolor": "white",
           "linecolor": "white",
           "ticks": "",
           "title": {
            "standoff": 15
           },
           "zerolinecolor": "white",
           "zerolinewidth": 2
          }
         }
        },
        "title": {
         "text": "Top 10 Favourite Artists"
        },
        "xaxis": {
         "anchor": "y",
         "domain": [
          0,
          1
         ],
         "title": {
          "text": "Artists"
         }
        },
        "yaxis": {
         "anchor": "x",
         "domain": [
          0,
          1
         ],
         "title": {
          "text": "No of times songs played"
         }
        }
       }
      }
     },
     "metadata": {},
     "output_type": "display_data"
    }
   ],
   "source": [
    "fig = px.bar(data_frame=top_10_artist,title='Top 10 Favourite Artists',labels={'index':'Artists','value':'No of times songs played'})\n",
    "fig.show()"
   ]
  },
  {
   "cell_type": "code",
   "execution_count": 95,
   "metadata": {},
   "outputs": [
    {
     "data": {
      "text/plain": [
       "Panda                                                 537\n",
       "Gbona                                                 438\n",
       "Rock Your Body                                        389\n",
       "No Guidance (feat. Drake)                             372\n",
       "Ye                                                    322\n",
       "Heavens Gate                                          319\n",
       "Bank On It                                            285\n",
       "Ginger (feat. Burna Boy)                              277\n",
       "Pretty Little Fears (feat. J. Cole)                   276\n",
       "Soco (feat. Wizkid, Ceeza Milli, Spotless & Terri)    273\n",
       "Jogodo                                                250\n",
       "Blow My Mind                                          248\n",
       "Blessed (feat. Damian \"Jr. Gong\" Marley)              244\n",
       "No Stress                                             242\n",
       "Gwarn (feat. Burna Boy)                               235\n",
       "Heat (feat. Gunna)                                    221\n",
       "PuTTin                                                218\n",
       "Life Is Good (feat. Drake)                            217\n",
       "Lower Body (feat. Davido)                             217\n",
       "Baba Nla (feat. Burna Boy, 2Baba & D'Banj)            216\n",
       "Name: Song Name, dtype: int64"
      ]
     },
     "execution_count": 95,
     "metadata": {},
     "output_type": "execute_result"
    }
   ],
   "source": [
    "top_20_songs = music_df['Song Name'].value_counts()[:20]\n",
    "top_20_songs"
   ]
  },
  {
   "cell_type": "code",
   "execution_count": 96,
   "metadata": {},
   "outputs": [
    {
     "data": {
      "application/vnd.plotly.v1+json": {
       "config": {
        "plotlyServerURL": "https://plot.ly"
       },
       "data": [
        {
         "alignmentgroup": "True",
         "hovertemplate": "variable=Song Name<br>Song Title=%{x}<br>Number of plays=%{y}<extra></extra>",
         "legendgroup": "Song Name",
         "marker": {
          "color": "#636efa",
          "pattern": {
           "shape": ""
          }
         },
         "name": "Song Name",
         "offsetgroup": "Song Name",
         "orientation": "v",
         "showlegend": true,
         "textposition": "auto",
         "type": "bar",
         "x": [
          "Panda",
          "Gbona",
          "Rock Your Body",
          "No Guidance (feat. Drake)",
          "Ye",
          "Heavens Gate",
          "Bank On It",
          "Ginger (feat. Burna Boy)",
          "Pretty Little Fears (feat. J. Cole)",
          "Soco (feat. Wizkid, Ceeza Milli, Spotless & Terri)",
          "Jogodo",
          "Blow My Mind",
          "Blessed (feat. Damian \"Jr. Gong\" Marley)",
          "No Stress",
          "Gwarn (feat. Burna Boy)",
          "Heat (feat. Gunna)",
          "PuTTin",
          "Life Is Good (feat. Drake)",
          "Lower Body (feat. Davido)",
          "Baba Nla (feat. Burna Boy, 2Baba & D'Banj)"
         ],
         "xaxis": "x",
         "y": [
          537,
          438,
          389,
          372,
          322,
          319,
          285,
          277,
          276,
          273,
          250,
          248,
          244,
          242,
          235,
          221,
          218,
          217,
          217,
          216
         ],
         "yaxis": "y"
        }
       ],
       "layout": {
        "barmode": "relative",
        "legend": {
         "title": {
          "text": "variable"
         },
         "tracegroupgap": 0
        },
        "template": {
         "data": {
          "bar": [
           {
            "error_x": {
             "color": "#2a3f5f"
            },
            "error_y": {
             "color": "#2a3f5f"
            },
            "marker": {
             "line": {
              "color": "#E5ECF6",
              "width": 0.5
             },
             "pattern": {
              "fillmode": "overlay",
              "size": 10,
              "solidity": 0.2
             }
            },
            "type": "bar"
           }
          ],
          "barpolar": [
           {
            "marker": {
             "line": {
              "color": "#E5ECF6",
              "width": 0.5
             },
             "pattern": {
              "fillmode": "overlay",
              "size": 10,
              "solidity": 0.2
             }
            },
            "type": "barpolar"
           }
          ],
          "carpet": [
           {
            "aaxis": {
             "endlinecolor": "#2a3f5f",
             "gridcolor": "white",
             "linecolor": "white",
             "minorgridcolor": "white",
             "startlinecolor": "#2a3f5f"
            },
            "baxis": {
             "endlinecolor": "#2a3f5f",
             "gridcolor": "white",
             "linecolor": "white",
             "minorgridcolor": "white",
             "startlinecolor": "#2a3f5f"
            },
            "type": "carpet"
           }
          ],
          "choropleth": [
           {
            "colorbar": {
             "outlinewidth": 0,
             "ticks": ""
            },
            "type": "choropleth"
           }
          ],
          "contour": [
           {
            "colorbar": {
             "outlinewidth": 0,
             "ticks": ""
            },
            "colorscale": [
             [
              0,
              "#0d0887"
             ],
             [
              0.1111111111111111,
              "#46039f"
             ],
             [
              0.2222222222222222,
              "#7201a8"
             ],
             [
              0.3333333333333333,
              "#9c179e"
             ],
             [
              0.4444444444444444,
              "#bd3786"
             ],
             [
              0.5555555555555556,
              "#d8576b"
             ],
             [
              0.6666666666666666,
              "#ed7953"
             ],
             [
              0.7777777777777778,
              "#fb9f3a"
             ],
             [
              0.8888888888888888,
              "#fdca26"
             ],
             [
              1,
              "#f0f921"
             ]
            ],
            "type": "contour"
           }
          ],
          "contourcarpet": [
           {
            "colorbar": {
             "outlinewidth": 0,
             "ticks": ""
            },
            "type": "contourcarpet"
           }
          ],
          "heatmap": [
           {
            "colorbar": {
             "outlinewidth": 0,
             "ticks": ""
            },
            "colorscale": [
             [
              0,
              "#0d0887"
             ],
             [
              0.1111111111111111,
              "#46039f"
             ],
             [
              0.2222222222222222,
              "#7201a8"
             ],
             [
              0.3333333333333333,
              "#9c179e"
             ],
             [
              0.4444444444444444,
              "#bd3786"
             ],
             [
              0.5555555555555556,
              "#d8576b"
             ],
             [
              0.6666666666666666,
              "#ed7953"
             ],
             [
              0.7777777777777778,
              "#fb9f3a"
             ],
             [
              0.8888888888888888,
              "#fdca26"
             ],
             [
              1,
              "#f0f921"
             ]
            ],
            "type": "heatmap"
           }
          ],
          "heatmapgl": [
           {
            "colorbar": {
             "outlinewidth": 0,
             "ticks": ""
            },
            "colorscale": [
             [
              0,
              "#0d0887"
             ],
             [
              0.1111111111111111,
              "#46039f"
             ],
             [
              0.2222222222222222,
              "#7201a8"
             ],
             [
              0.3333333333333333,
              "#9c179e"
             ],
             [
              0.4444444444444444,
              "#bd3786"
             ],
             [
              0.5555555555555556,
              "#d8576b"
             ],
             [
              0.6666666666666666,
              "#ed7953"
             ],
             [
              0.7777777777777778,
              "#fb9f3a"
             ],
             [
              0.8888888888888888,
              "#fdca26"
             ],
             [
              1,
              "#f0f921"
             ]
            ],
            "type": "heatmapgl"
           }
          ],
          "histogram": [
           {
            "marker": {
             "pattern": {
              "fillmode": "overlay",
              "size": 10,
              "solidity": 0.2
             }
            },
            "type": "histogram"
           }
          ],
          "histogram2d": [
           {
            "colorbar": {
             "outlinewidth": 0,
             "ticks": ""
            },
            "colorscale": [
             [
              0,
              "#0d0887"
             ],
             [
              0.1111111111111111,
              "#46039f"
             ],
             [
              0.2222222222222222,
              "#7201a8"
             ],
             [
              0.3333333333333333,
              "#9c179e"
             ],
             [
              0.4444444444444444,
              "#bd3786"
             ],
             [
              0.5555555555555556,
              "#d8576b"
             ],
             [
              0.6666666666666666,
              "#ed7953"
             ],
             [
              0.7777777777777778,
              "#fb9f3a"
             ],
             [
              0.8888888888888888,
              "#fdca26"
             ],
             [
              1,
              "#f0f921"
             ]
            ],
            "type": "histogram2d"
           }
          ],
          "histogram2dcontour": [
           {
            "colorbar": {
             "outlinewidth": 0,
             "ticks": ""
            },
            "colorscale": [
             [
              0,
              "#0d0887"
             ],
             [
              0.1111111111111111,
              "#46039f"
             ],
             [
              0.2222222222222222,
              "#7201a8"
             ],
             [
              0.3333333333333333,
              "#9c179e"
             ],
             [
              0.4444444444444444,
              "#bd3786"
             ],
             [
              0.5555555555555556,
              "#d8576b"
             ],
             [
              0.6666666666666666,
              "#ed7953"
             ],
             [
              0.7777777777777778,
              "#fb9f3a"
             ],
             [
              0.8888888888888888,
              "#fdca26"
             ],
             [
              1,
              "#f0f921"
             ]
            ],
            "type": "histogram2dcontour"
           }
          ],
          "mesh3d": [
           {
            "colorbar": {
             "outlinewidth": 0,
             "ticks": ""
            },
            "type": "mesh3d"
           }
          ],
          "parcoords": [
           {
            "line": {
             "colorbar": {
              "outlinewidth": 0,
              "ticks": ""
             }
            },
            "type": "parcoords"
           }
          ],
          "pie": [
           {
            "automargin": true,
            "type": "pie"
           }
          ],
          "scatter": [
           {
            "marker": {
             "colorbar": {
              "outlinewidth": 0,
              "ticks": ""
             }
            },
            "type": "scatter"
           }
          ],
          "scatter3d": [
           {
            "line": {
             "colorbar": {
              "outlinewidth": 0,
              "ticks": ""
             }
            },
            "marker": {
             "colorbar": {
              "outlinewidth": 0,
              "ticks": ""
             }
            },
            "type": "scatter3d"
           }
          ],
          "scattercarpet": [
           {
            "marker": {
             "colorbar": {
              "outlinewidth": 0,
              "ticks": ""
             }
            },
            "type": "scattercarpet"
           }
          ],
          "scattergeo": [
           {
            "marker": {
             "colorbar": {
              "outlinewidth": 0,
              "ticks": ""
             }
            },
            "type": "scattergeo"
           }
          ],
          "scattergl": [
           {
            "marker": {
             "colorbar": {
              "outlinewidth": 0,
              "ticks": ""
             }
            },
            "type": "scattergl"
           }
          ],
          "scattermapbox": [
           {
            "marker": {
             "colorbar": {
              "outlinewidth": 0,
              "ticks": ""
             }
            },
            "type": "scattermapbox"
           }
          ],
          "scatterpolar": [
           {
            "marker": {
             "colorbar": {
              "outlinewidth": 0,
              "ticks": ""
             }
            },
            "type": "scatterpolar"
           }
          ],
          "scatterpolargl": [
           {
            "marker": {
             "colorbar": {
              "outlinewidth": 0,
              "ticks": ""
             }
            },
            "type": "scatterpolargl"
           }
          ],
          "scatterternary": [
           {
            "marker": {
             "colorbar": {
              "outlinewidth": 0,
              "ticks": ""
             }
            },
            "type": "scatterternary"
           }
          ],
          "surface": [
           {
            "colorbar": {
             "outlinewidth": 0,
             "ticks": ""
            },
            "colorscale": [
             [
              0,
              "#0d0887"
             ],
             [
              0.1111111111111111,
              "#46039f"
             ],
             [
              0.2222222222222222,
              "#7201a8"
             ],
             [
              0.3333333333333333,
              "#9c179e"
             ],
             [
              0.4444444444444444,
              "#bd3786"
             ],
             [
              0.5555555555555556,
              "#d8576b"
             ],
             [
              0.6666666666666666,
              "#ed7953"
             ],
             [
              0.7777777777777778,
              "#fb9f3a"
             ],
             [
              0.8888888888888888,
              "#fdca26"
             ],
             [
              1,
              "#f0f921"
             ]
            ],
            "type": "surface"
           }
          ],
          "table": [
           {
            "cells": {
             "fill": {
              "color": "#EBF0F8"
             },
             "line": {
              "color": "white"
             }
            },
            "header": {
             "fill": {
              "color": "#C8D4E3"
             },
             "line": {
              "color": "white"
             }
            },
            "type": "table"
           }
          ]
         },
         "layout": {
          "annotationdefaults": {
           "arrowcolor": "#2a3f5f",
           "arrowhead": 0,
           "arrowwidth": 1
          },
          "autotypenumbers": "strict",
          "coloraxis": {
           "colorbar": {
            "outlinewidth": 0,
            "ticks": ""
           }
          },
          "colorscale": {
           "diverging": [
            [
             0,
             "#8e0152"
            ],
            [
             0.1,
             "#c51b7d"
            ],
            [
             0.2,
             "#de77ae"
            ],
            [
             0.3,
             "#f1b6da"
            ],
            [
             0.4,
             "#fde0ef"
            ],
            [
             0.5,
             "#f7f7f7"
            ],
            [
             0.6,
             "#e6f5d0"
            ],
            [
             0.7,
             "#b8e186"
            ],
            [
             0.8,
             "#7fbc41"
            ],
            [
             0.9,
             "#4d9221"
            ],
            [
             1,
             "#276419"
            ]
           ],
           "sequential": [
            [
             0,
             "#0d0887"
            ],
            [
             0.1111111111111111,
             "#46039f"
            ],
            [
             0.2222222222222222,
             "#7201a8"
            ],
            [
             0.3333333333333333,
             "#9c179e"
            ],
            [
             0.4444444444444444,
             "#bd3786"
            ],
            [
             0.5555555555555556,
             "#d8576b"
            ],
            [
             0.6666666666666666,
             "#ed7953"
            ],
            [
             0.7777777777777778,
             "#fb9f3a"
            ],
            [
             0.8888888888888888,
             "#fdca26"
            ],
            [
             1,
             "#f0f921"
            ]
           ],
           "sequentialminus": [
            [
             0,
             "#0d0887"
            ],
            [
             0.1111111111111111,
             "#46039f"
            ],
            [
             0.2222222222222222,
             "#7201a8"
            ],
            [
             0.3333333333333333,
             "#9c179e"
            ],
            [
             0.4444444444444444,
             "#bd3786"
            ],
            [
             0.5555555555555556,
             "#d8576b"
            ],
            [
             0.6666666666666666,
             "#ed7953"
            ],
            [
             0.7777777777777778,
             "#fb9f3a"
            ],
            [
             0.8888888888888888,
             "#fdca26"
            ],
            [
             1,
             "#f0f921"
            ]
           ]
          },
          "colorway": [
           "#636efa",
           "#EF553B",
           "#00cc96",
           "#ab63fa",
           "#FFA15A",
           "#19d3f3",
           "#FF6692",
           "#B6E880",
           "#FF97FF",
           "#FECB52"
          ],
          "font": {
           "color": "#2a3f5f"
          },
          "geo": {
           "bgcolor": "white",
           "lakecolor": "white",
           "landcolor": "#E5ECF6",
           "showlakes": true,
           "showland": true,
           "subunitcolor": "white"
          },
          "hoverlabel": {
           "align": "left"
          },
          "hovermode": "closest",
          "mapbox": {
           "style": "light"
          },
          "paper_bgcolor": "white",
          "plot_bgcolor": "#E5ECF6",
          "polar": {
           "angularaxis": {
            "gridcolor": "white",
            "linecolor": "white",
            "ticks": ""
           },
           "bgcolor": "#E5ECF6",
           "radialaxis": {
            "gridcolor": "white",
            "linecolor": "white",
            "ticks": ""
           }
          },
          "scene": {
           "xaxis": {
            "backgroundcolor": "#E5ECF6",
            "gridcolor": "white",
            "gridwidth": 2,
            "linecolor": "white",
            "showbackground": true,
            "ticks": "",
            "zerolinecolor": "white"
           },
           "yaxis": {
            "backgroundcolor": "#E5ECF6",
            "gridcolor": "white",
            "gridwidth": 2,
            "linecolor": "white",
            "showbackground": true,
            "ticks": "",
            "zerolinecolor": "white"
           },
           "zaxis": {
            "backgroundcolor": "#E5ECF6",
            "gridcolor": "white",
            "gridwidth": 2,
            "linecolor": "white",
            "showbackground": true,
            "ticks": "",
            "zerolinecolor": "white"
           }
          },
          "shapedefaults": {
           "line": {
            "color": "#2a3f5f"
           }
          },
          "ternary": {
           "aaxis": {
            "gridcolor": "white",
            "linecolor": "white",
            "ticks": ""
           },
           "baxis": {
            "gridcolor": "white",
            "linecolor": "white",
            "ticks": ""
           },
           "bgcolor": "#E5ECF6",
           "caxis": {
            "gridcolor": "white",
            "linecolor": "white",
            "ticks": ""
           }
          },
          "title": {
           "x": 0.05
          },
          "xaxis": {
           "automargin": true,
           "gridcolor": "white",
           "linecolor": "white",
           "ticks": "",
           "title": {
            "standoff": 15
           },
           "zerolinecolor": "white",
           "zerolinewidth": 2
          },
          "yaxis": {
           "automargin": true,
           "gridcolor": "white",
           "linecolor": "white",
           "ticks": "",
           "title": {
            "standoff": 15
           },
           "zerolinecolor": "white",
           "zerolinewidth": 2
          }
         }
        },
        "title": {
         "text": "Top 20 Favourite Songs"
        },
        "xaxis": {
         "anchor": "y",
         "domain": [
          0,
          1
         ],
         "title": {
          "text": "Song Title"
         }
        },
        "yaxis": {
         "anchor": "x",
         "domain": [
          0,
          1
         ],
         "title": {
          "text": "Number of plays"
         }
        }
       }
      }
     },
     "metadata": {},
     "output_type": "display_data"
    }
   ],
   "source": [
    "fig = px.bar(data_frame=top_20_songs,title='Top 20 Favourite Songs',labels={'index':\"Song Title\",\"value\":'Number of plays'})\n",
    "fig.show()"
   ]
  },
  {
   "cell_type": "markdown",
   "metadata": {},
   "source": [
    "### Which are the top 10 songs that were listened to for the longest?"
   ]
  },
  {
   "cell_type": "code",
   "execution_count": 107,
   "metadata": {},
   "outputs": [
    {
     "data": {
      "text/plain": [
       "Song Name\n",
       "Rock Your Body                                        45125975.0\n",
       "Gbona                                                 38223743.0\n",
       "No Guidance (feat. Drake)                             37226930.0\n",
       "Ye                                                    36905884.0\n",
       "Blessed (feat. Damian \"Jr. Gong\" Marley)              33177783.0\n",
       "Soco (feat. Wizkid, Ceeza Milli, Spotless & Terri)    31101138.0\n",
       "Jogodo                                                30536288.0\n",
       "Ginger (feat. Burna Boy)                              29804814.0\n",
       "Bank On It                                            29610030.0\n",
       "Gwarn (feat. Burna Boy)                               29160108.0\n",
       "Name: Play Duration Milliseconds, dtype: float64"
      ]
     },
     "execution_count": 107,
     "metadata": {},
     "output_type": "execute_result"
    }
   ],
   "source": [
    "top_10_playtime = music_df.groupby('Song Name')['Play Duration Milliseconds'].sum().sort_values(ascending=False)[:10]\n",
    "top_10_playtime"
   ]
  },
  {
   "cell_type": "code",
   "execution_count": 108,
   "metadata": {},
   "outputs": [
    {
     "data": {
      "application/vnd.plotly.v1+json": {
       "config": {
        "plotlyServerURL": "https://plot.ly"
       },
       "data": [
        {
         "alignmentgroup": "True",
         "hovertemplate": "variable=Play Duration Milliseconds<br>Song Name=%{x}<br>Duration of play=%{y}<extra></extra>",
         "legendgroup": "Play Duration Milliseconds",
         "marker": {
          "color": "#636efa",
          "pattern": {
           "shape": ""
          }
         },
         "name": "Play Duration Milliseconds",
         "offsetgroup": "Play Duration Milliseconds",
         "orientation": "v",
         "showlegend": true,
         "textposition": "auto",
         "type": "bar",
         "x": [
          "Rock Your Body",
          "Gbona",
          "No Guidance (feat. Drake)",
          "Ye",
          "Blessed (feat. Damian \"Jr. Gong\" Marley)",
          "Soco (feat. Wizkid, Ceeza Milli, Spotless & Terri)",
          "Jogodo",
          "Ginger (feat. Burna Boy)",
          "Bank On It",
          "Gwarn (feat. Burna Boy)"
         ],
         "xaxis": "x",
         "y": [
          45125975,
          38223743,
          37226930,
          36905884,
          33177783,
          31101138,
          30536288,
          29804814,
          29610030,
          29160108
         ],
         "yaxis": "y"
        }
       ],
       "layout": {
        "barmode": "relative",
        "legend": {
         "title": {
          "text": "variable"
         },
         "tracegroupgap": 0
        },
        "margin": {
         "t": 60
        },
        "template": {
         "data": {
          "bar": [
           {
            "error_x": {
             "color": "#2a3f5f"
            },
            "error_y": {
             "color": "#2a3f5f"
            },
            "marker": {
             "line": {
              "color": "#E5ECF6",
              "width": 0.5
             },
             "pattern": {
              "fillmode": "overlay",
              "size": 10,
              "solidity": 0.2
             }
            },
            "type": "bar"
           }
          ],
          "barpolar": [
           {
            "marker": {
             "line": {
              "color": "#E5ECF6",
              "width": 0.5
             },
             "pattern": {
              "fillmode": "overlay",
              "size": 10,
              "solidity": 0.2
             }
            },
            "type": "barpolar"
           }
          ],
          "carpet": [
           {
            "aaxis": {
             "endlinecolor": "#2a3f5f",
             "gridcolor": "white",
             "linecolor": "white",
             "minorgridcolor": "white",
             "startlinecolor": "#2a3f5f"
            },
            "baxis": {
             "endlinecolor": "#2a3f5f",
             "gridcolor": "white",
             "linecolor": "white",
             "minorgridcolor": "white",
             "startlinecolor": "#2a3f5f"
            },
            "type": "carpet"
           }
          ],
          "choropleth": [
           {
            "colorbar": {
             "outlinewidth": 0,
             "ticks": ""
            },
            "type": "choropleth"
           }
          ],
          "contour": [
           {
            "colorbar": {
             "outlinewidth": 0,
             "ticks": ""
            },
            "colorscale": [
             [
              0,
              "#0d0887"
             ],
             [
              0.1111111111111111,
              "#46039f"
             ],
             [
              0.2222222222222222,
              "#7201a8"
             ],
             [
              0.3333333333333333,
              "#9c179e"
             ],
             [
              0.4444444444444444,
              "#bd3786"
             ],
             [
              0.5555555555555556,
              "#d8576b"
             ],
             [
              0.6666666666666666,
              "#ed7953"
             ],
             [
              0.7777777777777778,
              "#fb9f3a"
             ],
             [
              0.8888888888888888,
              "#fdca26"
             ],
             [
              1,
              "#f0f921"
             ]
            ],
            "type": "contour"
           }
          ],
          "contourcarpet": [
           {
            "colorbar": {
             "outlinewidth": 0,
             "ticks": ""
            },
            "type": "contourcarpet"
           }
          ],
          "heatmap": [
           {
            "colorbar": {
             "outlinewidth": 0,
             "ticks": ""
            },
            "colorscale": [
             [
              0,
              "#0d0887"
             ],
             [
              0.1111111111111111,
              "#46039f"
             ],
             [
              0.2222222222222222,
              "#7201a8"
             ],
             [
              0.3333333333333333,
              "#9c179e"
             ],
             [
              0.4444444444444444,
              "#bd3786"
             ],
             [
              0.5555555555555556,
              "#d8576b"
             ],
             [
              0.6666666666666666,
              "#ed7953"
             ],
             [
              0.7777777777777778,
              "#fb9f3a"
             ],
             [
              0.8888888888888888,
              "#fdca26"
             ],
             [
              1,
              "#f0f921"
             ]
            ],
            "type": "heatmap"
           }
          ],
          "heatmapgl": [
           {
            "colorbar": {
             "outlinewidth": 0,
             "ticks": ""
            },
            "colorscale": [
             [
              0,
              "#0d0887"
             ],
             [
              0.1111111111111111,
              "#46039f"
             ],
             [
              0.2222222222222222,
              "#7201a8"
             ],
             [
              0.3333333333333333,
              "#9c179e"
             ],
             [
              0.4444444444444444,
              "#bd3786"
             ],
             [
              0.5555555555555556,
              "#d8576b"
             ],
             [
              0.6666666666666666,
              "#ed7953"
             ],
             [
              0.7777777777777778,
              "#fb9f3a"
             ],
             [
              0.8888888888888888,
              "#fdca26"
             ],
             [
              1,
              "#f0f921"
             ]
            ],
            "type": "heatmapgl"
           }
          ],
          "histogram": [
           {
            "marker": {
             "pattern": {
              "fillmode": "overlay",
              "size": 10,
              "solidity": 0.2
             }
            },
            "type": "histogram"
           }
          ],
          "histogram2d": [
           {
            "colorbar": {
             "outlinewidth": 0,
             "ticks": ""
            },
            "colorscale": [
             [
              0,
              "#0d0887"
             ],
             [
              0.1111111111111111,
              "#46039f"
             ],
             [
              0.2222222222222222,
              "#7201a8"
             ],
             [
              0.3333333333333333,
              "#9c179e"
             ],
             [
              0.4444444444444444,
              "#bd3786"
             ],
             [
              0.5555555555555556,
              "#d8576b"
             ],
             [
              0.6666666666666666,
              "#ed7953"
             ],
             [
              0.7777777777777778,
              "#fb9f3a"
             ],
             [
              0.8888888888888888,
              "#fdca26"
             ],
             [
              1,
              "#f0f921"
             ]
            ],
            "type": "histogram2d"
           }
          ],
          "histogram2dcontour": [
           {
            "colorbar": {
             "outlinewidth": 0,
             "ticks": ""
            },
            "colorscale": [
             [
              0,
              "#0d0887"
             ],
             [
              0.1111111111111111,
              "#46039f"
             ],
             [
              0.2222222222222222,
              "#7201a8"
             ],
             [
              0.3333333333333333,
              "#9c179e"
             ],
             [
              0.4444444444444444,
              "#bd3786"
             ],
             [
              0.5555555555555556,
              "#d8576b"
             ],
             [
              0.6666666666666666,
              "#ed7953"
             ],
             [
              0.7777777777777778,
              "#fb9f3a"
             ],
             [
              0.8888888888888888,
              "#fdca26"
             ],
             [
              1,
              "#f0f921"
             ]
            ],
            "type": "histogram2dcontour"
           }
          ],
          "mesh3d": [
           {
            "colorbar": {
             "outlinewidth": 0,
             "ticks": ""
            },
            "type": "mesh3d"
           }
          ],
          "parcoords": [
           {
            "line": {
             "colorbar": {
              "outlinewidth": 0,
              "ticks": ""
             }
            },
            "type": "parcoords"
           }
          ],
          "pie": [
           {
            "automargin": true,
            "type": "pie"
           }
          ],
          "scatter": [
           {
            "marker": {
             "colorbar": {
              "outlinewidth": 0,
              "ticks": ""
             }
            },
            "type": "scatter"
           }
          ],
          "scatter3d": [
           {
            "line": {
             "colorbar": {
              "outlinewidth": 0,
              "ticks": ""
             }
            },
            "marker": {
             "colorbar": {
              "outlinewidth": 0,
              "ticks": ""
             }
            },
            "type": "scatter3d"
           }
          ],
          "scattercarpet": [
           {
            "marker": {
             "colorbar": {
              "outlinewidth": 0,
              "ticks": ""
             }
            },
            "type": "scattercarpet"
           }
          ],
          "scattergeo": [
           {
            "marker": {
             "colorbar": {
              "outlinewidth": 0,
              "ticks": ""
             }
            },
            "type": "scattergeo"
           }
          ],
          "scattergl": [
           {
            "marker": {
             "colorbar": {
              "outlinewidth": 0,
              "ticks": ""
             }
            },
            "type": "scattergl"
           }
          ],
          "scattermapbox": [
           {
            "marker": {
             "colorbar": {
              "outlinewidth": 0,
              "ticks": ""
             }
            },
            "type": "scattermapbox"
           }
          ],
          "scatterpolar": [
           {
            "marker": {
             "colorbar": {
              "outlinewidth": 0,
              "ticks": ""
             }
            },
            "type": "scatterpolar"
           }
          ],
          "scatterpolargl": [
           {
            "marker": {
             "colorbar": {
              "outlinewidth": 0,
              "ticks": ""
             }
            },
            "type": "scatterpolargl"
           }
          ],
          "scatterternary": [
           {
            "marker": {
             "colorbar": {
              "outlinewidth": 0,
              "ticks": ""
             }
            },
            "type": "scatterternary"
           }
          ],
          "surface": [
           {
            "colorbar": {
             "outlinewidth": 0,
             "ticks": ""
            },
            "colorscale": [
             [
              0,
              "#0d0887"
             ],
             [
              0.1111111111111111,
              "#46039f"
             ],
             [
              0.2222222222222222,
              "#7201a8"
             ],
             [
              0.3333333333333333,
              "#9c179e"
             ],
             [
              0.4444444444444444,
              "#bd3786"
             ],
             [
              0.5555555555555556,
              "#d8576b"
             ],
             [
              0.6666666666666666,
              "#ed7953"
             ],
             [
              0.7777777777777778,
              "#fb9f3a"
             ],
             [
              0.8888888888888888,
              "#fdca26"
             ],
             [
              1,
              "#f0f921"
             ]
            ],
            "type": "surface"
           }
          ],
          "table": [
           {
            "cells": {
             "fill": {
              "color": "#EBF0F8"
             },
             "line": {
              "color": "white"
             }
            },
            "header": {
             "fill": {
              "color": "#C8D4E3"
             },
             "line": {
              "color": "white"
             }
            },
            "type": "table"
           }
          ]
         },
         "layout": {
          "annotationdefaults": {
           "arrowcolor": "#2a3f5f",
           "arrowhead": 0,
           "arrowwidth": 1
          },
          "autotypenumbers": "strict",
          "coloraxis": {
           "colorbar": {
            "outlinewidth": 0,
            "ticks": ""
           }
          },
          "colorscale": {
           "diverging": [
            [
             0,
             "#8e0152"
            ],
            [
             0.1,
             "#c51b7d"
            ],
            [
             0.2,
             "#de77ae"
            ],
            [
             0.3,
             "#f1b6da"
            ],
            [
             0.4,
             "#fde0ef"
            ],
            [
             0.5,
             "#f7f7f7"
            ],
            [
             0.6,
             "#e6f5d0"
            ],
            [
             0.7,
             "#b8e186"
            ],
            [
             0.8,
             "#7fbc41"
            ],
            [
             0.9,
             "#4d9221"
            ],
            [
             1,
             "#276419"
            ]
           ],
           "sequential": [
            [
             0,
             "#0d0887"
            ],
            [
             0.1111111111111111,
             "#46039f"
            ],
            [
             0.2222222222222222,
             "#7201a8"
            ],
            [
             0.3333333333333333,
             "#9c179e"
            ],
            [
             0.4444444444444444,
             "#bd3786"
            ],
            [
             0.5555555555555556,
             "#d8576b"
            ],
            [
             0.6666666666666666,
             "#ed7953"
            ],
            [
             0.7777777777777778,
             "#fb9f3a"
            ],
            [
             0.8888888888888888,
             "#fdca26"
            ],
            [
             1,
             "#f0f921"
            ]
           ],
           "sequentialminus": [
            [
             0,
             "#0d0887"
            ],
            [
             0.1111111111111111,
             "#46039f"
            ],
            [
             0.2222222222222222,
             "#7201a8"
            ],
            [
             0.3333333333333333,
             "#9c179e"
            ],
            [
             0.4444444444444444,
             "#bd3786"
            ],
            [
             0.5555555555555556,
             "#d8576b"
            ],
            [
             0.6666666666666666,
             "#ed7953"
            ],
            [
             0.7777777777777778,
             "#fb9f3a"
            ],
            [
             0.8888888888888888,
             "#fdca26"
            ],
            [
             1,
             "#f0f921"
            ]
           ]
          },
          "colorway": [
           "#636efa",
           "#EF553B",
           "#00cc96",
           "#ab63fa",
           "#FFA15A",
           "#19d3f3",
           "#FF6692",
           "#B6E880",
           "#FF97FF",
           "#FECB52"
          ],
          "font": {
           "color": "#2a3f5f"
          },
          "geo": {
           "bgcolor": "white",
           "lakecolor": "white",
           "landcolor": "#E5ECF6",
           "showlakes": true,
           "showland": true,
           "subunitcolor": "white"
          },
          "hoverlabel": {
           "align": "left"
          },
          "hovermode": "closest",
          "mapbox": {
           "style": "light"
          },
          "paper_bgcolor": "white",
          "plot_bgcolor": "#E5ECF6",
          "polar": {
           "angularaxis": {
            "gridcolor": "white",
            "linecolor": "white",
            "ticks": ""
           },
           "bgcolor": "#E5ECF6",
           "radialaxis": {
            "gridcolor": "white",
            "linecolor": "white",
            "ticks": ""
           }
          },
          "scene": {
           "xaxis": {
            "backgroundcolor": "#E5ECF6",
            "gridcolor": "white",
            "gridwidth": 2,
            "linecolor": "white",
            "showbackground": true,
            "ticks": "",
            "zerolinecolor": "white"
           },
           "yaxis": {
            "backgroundcolor": "#E5ECF6",
            "gridcolor": "white",
            "gridwidth": 2,
            "linecolor": "white",
            "showbackground": true,
            "ticks": "",
            "zerolinecolor": "white"
           },
           "zaxis": {
            "backgroundcolor": "#E5ECF6",
            "gridcolor": "white",
            "gridwidth": 2,
            "linecolor": "white",
            "showbackground": true,
            "ticks": "",
            "zerolinecolor": "white"
           }
          },
          "shapedefaults": {
           "line": {
            "color": "#2a3f5f"
           }
          },
          "ternary": {
           "aaxis": {
            "gridcolor": "white",
            "linecolor": "white",
            "ticks": ""
           },
           "baxis": {
            "gridcolor": "white",
            "linecolor": "white",
            "ticks": ""
           },
           "bgcolor": "#E5ECF6",
           "caxis": {
            "gridcolor": "white",
            "linecolor": "white",
            "ticks": ""
           }
          },
          "title": {
           "x": 0.05
          },
          "xaxis": {
           "automargin": true,
           "gridcolor": "white",
           "linecolor": "white",
           "ticks": "",
           "title": {
            "standoff": 15
           },
           "zerolinecolor": "white",
           "zerolinewidth": 2
          },
          "yaxis": {
           "automargin": true,
           "gridcolor": "white",
           "linecolor": "white",
           "ticks": "",
           "title": {
            "standoff": 15
           },
           "zerolinecolor": "white",
           "zerolinewidth": 2
          }
         }
        },
        "xaxis": {
         "anchor": "y",
         "domain": [
          0,
          1
         ],
         "title": {
          "text": "Song Name"
         }
        },
        "yaxis": {
         "anchor": "x",
         "domain": [
          0,
          1
         ],
         "title": {
          "text": "Duration of play"
         }
        }
       }
      }
     },
     "metadata": {},
     "output_type": "display_data"
    }
   ],
   "source": [
    "fig = px.bar(data_frame=top_10_playtime,labels={'index':'Song Names','value':'Duration of play'})\n",
    "fig.show()"
   ]
  }
 ],
 "metadata": {
  "kernelspec": {
   "display_name": "Python 3.8.8 ('base')",
   "language": "python",
   "name": "python3"
  },
  "language_info": {
   "codemirror_mode": {
    "name": "ipython",
    "version": 3
   },
   "file_extension": ".py",
   "mimetype": "text/x-python",
   "name": "python",
   "nbconvert_exporter": "python",
   "pygments_lexer": "ipython3",
   "version": "3.8.8"
  },
  "orig_nbformat": 4,
  "vscode": {
   "interpreter": {
    "hash": "f26e08a5b0bb6f4c4a146e7eec85141c77d6e2cfd4e070e577645da8d5f239d9"
   }
  }
 },
 "nbformat": 4,
 "nbformat_minor": 2
}
